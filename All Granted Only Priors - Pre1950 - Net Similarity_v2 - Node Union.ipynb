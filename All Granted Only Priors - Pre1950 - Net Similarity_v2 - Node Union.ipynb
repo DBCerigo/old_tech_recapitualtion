{
 "cells": [
  {
   "cell_type": "code",
   "execution_count": 2,
   "metadata": {
    "collapsed": false
   },
   "outputs": [],
   "source": [
    "%matplotlib inline\n",
    "import matplotlib.pyplot as plt\n",
    "plt.style.use('ggplot')\n",
    "from IPython.display import clear_output\n",
    "import seaborn as sns\n",
    "\n",
    "import cPickle as pk\n",
    "import pandas as pd\n",
    "import networkx as nx\n",
    "import scipy.sparse as sp\n",
    "import itertools as itls\n",
    "from itertools import combinations\n",
    "import numpy as np\n",
    "from math import sqrt\n",
    "\n",
    "import sys"
   ]
  },
  {
   "cell_type": "markdown",
   "metadata": {},
   "source": [
    "## Importing\n",
    "[to top](#Table-of-Contents) "
   ]
  },
  {
   "cell_type": "code",
   "execution_count": 3,
   "metadata": {
    "collapsed": false
   },
   "outputs": [
    {
     "data": {
      "text/plain": [
       "u'/Users/innovation-sfi/Dropbox/Research/Innovation/EPO/Data_processing/Python'"
      ]
     },
     "execution_count": 3,
     "metadata": {},
     "output_type": "execute_result"
    }
   ],
   "source": [
    "pwd"
   ]
  },
  {
   "cell_type": "code",
   "execution_count": 4,
   "metadata": {
    "collapsed": false,
    "scrolled": false
   },
   "outputs": [
    {
     "data": {
      "text/html": [
       "<div>\n",
       "<table border=\"1\" class=\"dataframe\">\n",
       "  <thead>\n",
       "    <tr style=\"text-align: right;\">\n",
       "      <th>appln_auth</th>\n",
       "      <th>AT</th>\n",
       "      <th>AU</th>\n",
       "      <th>BE</th>\n",
       "      <th>CA</th>\n",
       "      <th>CH</th>\n",
       "      <th>DE</th>\n",
       "      <th>DK</th>\n",
       "      <th>ES</th>\n",
       "      <th>FI</th>\n",
       "      <th>FR</th>\n",
       "      <th>...</th>\n",
       "      <th>IE</th>\n",
       "      <th>IS</th>\n",
       "      <th>IT</th>\n",
       "      <th>JP</th>\n",
       "      <th>LU</th>\n",
       "      <th>NL</th>\n",
       "      <th>NO</th>\n",
       "      <th>SE</th>\n",
       "      <th>SU</th>\n",
       "      <th>US</th>\n",
       "    </tr>\n",
       "    <tr>\n",
       "      <th>pub_year</th>\n",
       "      <th></th>\n",
       "      <th></th>\n",
       "      <th></th>\n",
       "      <th></th>\n",
       "      <th></th>\n",
       "      <th></th>\n",
       "      <th></th>\n",
       "      <th></th>\n",
       "      <th></th>\n",
       "      <th></th>\n",
       "      <th></th>\n",
       "      <th></th>\n",
       "      <th></th>\n",
       "      <th></th>\n",
       "      <th></th>\n",
       "      <th></th>\n",
       "      <th></th>\n",
       "      <th></th>\n",
       "      <th></th>\n",
       "      <th></th>\n",
       "      <th></th>\n",
       "    </tr>\n",
       "  </thead>\n",
       "  <tbody>\n",
       "    <tr>\n",
       "      <th>1836</th>\n",
       "      <td>[]</td>\n",
       "      <td>[]</td>\n",
       "      <td>[]</td>\n",
       "      <td>[]</td>\n",
       "      <td>[]</td>\n",
       "      <td>[]</td>\n",
       "      <td>[]</td>\n",
       "      <td>[]</td>\n",
       "      <td>[]</td>\n",
       "      <td>[]</td>\n",
       "      <td>...</td>\n",
       "      <td>[]</td>\n",
       "      <td>[]</td>\n",
       "      <td>[]</td>\n",
       "      <td>[]</td>\n",
       "      <td>[]</td>\n",
       "      <td>[]</td>\n",
       "      <td>[]</td>\n",
       "      <td>[]</td>\n",
       "      <td>[]</td>\n",
       "      <td>[[1513, 1789], [1268, 1855], [1762, 1821], [24...</td>\n",
       "    </tr>\n",
       "    <tr>\n",
       "      <th>1837</th>\n",
       "      <td>[]</td>\n",
       "      <td>[]</td>\n",
       "      <td>[]</td>\n",
       "      <td>[]</td>\n",
       "      <td>[]</td>\n",
       "      <td>[]</td>\n",
       "      <td>[]</td>\n",
       "      <td>[]</td>\n",
       "      <td>[]</td>\n",
       "      <td>[]</td>\n",
       "      <td>...</td>\n",
       "      <td>[]</td>\n",
       "      <td>[]</td>\n",
       "      <td>[]</td>\n",
       "      <td>[]</td>\n",
       "      <td>[]</td>\n",
       "      <td>[]</td>\n",
       "      <td>[]</td>\n",
       "      <td>[]</td>\n",
       "      <td>[]</td>\n",
       "      <td>[[5834, 5836], [4907, 5440], [799, 5648], [602...</td>\n",
       "    </tr>\n",
       "    <tr>\n",
       "      <th>1838</th>\n",
       "      <td>[]</td>\n",
       "      <td>[]</td>\n",
       "      <td>[]</td>\n",
       "      <td>[]</td>\n",
       "      <td>[]</td>\n",
       "      <td>[]</td>\n",
       "      <td>[]</td>\n",
       "      <td>[]</td>\n",
       "      <td>[]</td>\n",
       "      <td>[]</td>\n",
       "      <td>...</td>\n",
       "      <td>[]</td>\n",
       "      <td>[]</td>\n",
       "      <td>[]</td>\n",
       "      <td>[]</td>\n",
       "      <td>[]</td>\n",
       "      <td>[]</td>\n",
       "      <td>[]</td>\n",
       "      <td>[]</td>\n",
       "      <td>[]</td>\n",
       "      <td>[[1537, 1774], [1154, 1208], [2724, 2748], [40...</td>\n",
       "    </tr>\n",
       "    <tr>\n",
       "      <th>1839</th>\n",
       "      <td>[]</td>\n",
       "      <td>[]</td>\n",
       "      <td>[]</td>\n",
       "      <td>[]</td>\n",
       "      <td>[]</td>\n",
       "      <td>[]</td>\n",
       "      <td>[]</td>\n",
       "      <td>[]</td>\n",
       "      <td>[]</td>\n",
       "      <td>[]</td>\n",
       "      <td>...</td>\n",
       "      <td>[]</td>\n",
       "      <td>[]</td>\n",
       "      <td>[]</td>\n",
       "      <td>[]</td>\n",
       "      <td>[]</td>\n",
       "      <td>[]</td>\n",
       "      <td>[]</td>\n",
       "      <td>[]</td>\n",
       "      <td>[]</td>\n",
       "      <td>[[4212, 4231], [5078, 6180], [4915, 5001], [33...</td>\n",
       "    </tr>\n",
       "    <tr>\n",
       "      <th>1840</th>\n",
       "      <td>[]</td>\n",
       "      <td>[]</td>\n",
       "      <td>[]</td>\n",
       "      <td>[]</td>\n",
       "      <td>[]</td>\n",
       "      <td>[]</td>\n",
       "      <td>[]</td>\n",
       "      <td>[]</td>\n",
       "      <td>[]</td>\n",
       "      <td>[]</td>\n",
       "      <td>...</td>\n",
       "      <td>[]</td>\n",
       "      <td>[]</td>\n",
       "      <td>[]</td>\n",
       "      <td>[]</td>\n",
       "      <td>[]</td>\n",
       "      <td>[]</td>\n",
       "      <td>[]</td>\n",
       "      <td>[]</td>\n",
       "      <td>[]</td>\n",
       "      <td>[[2722, 2748], [1862, 1862], [1161, 5985], [48...</td>\n",
       "    </tr>\n",
       "  </tbody>\n",
       "</table>\n",
       "<p>5 rows × 22 columns</p>\n",
       "</div>"
      ],
      "text/plain": [
       "appln_auth  AT  AU  BE  CA  CH  DE  DK  ES  FI  FR  \\\n",
       "pub_year                                             \n",
       "1836        []  []  []  []  []  []  []  []  []  []   \n",
       "1837        []  []  []  []  []  []  []  []  []  []   \n",
       "1838        []  []  []  []  []  []  []  []  []  []   \n",
       "1839        []  []  []  []  []  []  []  []  []  []   \n",
       "1840        []  []  []  []  []  []  []  []  []  []   \n",
       "\n",
       "appln_auth                        ...                          IE  IS  IT  JP  \\\n",
       "pub_year                          ...                                           \n",
       "1836                              ...                          []  []  []  []   \n",
       "1837                              ...                          []  []  []  []   \n",
       "1838                              ...                          []  []  []  []   \n",
       "1839                              ...                          []  []  []  []   \n",
       "1840                              ...                          []  []  []  []   \n",
       "\n",
       "appln_auth  LU  NL  NO  SE  SU  \\\n",
       "pub_year                         \n",
       "1836        []  []  []  []  []   \n",
       "1837        []  []  []  []  []   \n",
       "1838        []  []  []  []  []   \n",
       "1839        []  []  []  []  []   \n",
       "1840        []  []  []  []  []   \n",
       "\n",
       "appln_auth                                                 US  \n",
       "pub_year                                                       \n",
       "1836        [[1513, 1789], [1268, 1855], [1762, 1821], [24...  \n",
       "1837        [[5834, 5836], [4907, 5440], [799, 5648], [602...  \n",
       "1838        [[1537, 1774], [1154, 1208], [2724, 2748], [40...  \n",
       "1839        [[4212, 4231], [5078, 6180], [4915, 5001], [33...  \n",
       "1840        [[2722, 2748], [1862, 1862], [1161, 5985], [48...  \n",
       "\n",
       "[5 rows x 22 columns]"
      ]
     },
     "execution_count": 4,
     "metadata": {},
     "output_type": "execute_result"
    }
   ],
   "source": [
    "df = pk.load(open('pickles_and_munged_csv/pre1950_cated_cumed_codes_as_ints_v1.pk', 'rb')); df.head()"
   ]
  },
  {
   "cell_type": "code",
   "execution_count": 5,
   "metadata": {
    "collapsed": false
   },
   "outputs": [],
   "source": [
    "df.drop('SU', axis=1, inplace=True)"
   ]
  },
  {
   "cell_type": "markdown",
   "metadata": {},
   "source": [
    "# AdjM building"
   ]
  },
  {
   "cell_type": "code",
   "execution_count": 6,
   "metadata": {
    "collapsed": true
   },
   "outputs": [],
   "source": [
    "def make_match_node_AdjDfs(df1, df2):\n",
    "    \n",
    "    # assumes dfs are symmetric and square\n",
    "    # should implement a check here...\n",
    "    \n",
    "    # get union of dataframe indexes\n",
    "    inx_1 = df1.index\n",
    "    inx_2 = df2.index\n",
    "    inx_un = inx_1.union(inx_2)\n",
    "    \n",
    "    # reindex both index and columns filling with 0\n",
    "    df1 = df1.reindex(index=inx_un, fill_value=0).reindex(columns=inx_un, fill_value=0)\n",
    "    df2 = df2.reindex(index=inx_un, fill_value=0).reindex(columns=inx_un, fill_value=0)\n",
    "    \n",
    "    return df1, df2"
   ]
  },
  {
   "cell_type": "markdown",
   "metadata": {},
   "source": [
    "# DeltaCon"
   ]
  },
  {
   "cell_type": "code",
   "execution_count": 7,
   "metadata": {
    "collapsed": false
   },
   "outputs": [],
   "source": [
    "def compute_FBP_invs(A):\n",
    "\n",
    "    # max power to calculate inverse to\n",
    "    max_pw = 7\n",
    "\n",
    "    # make identity\n",
    "    I = sp.identity(A.shape[0])\n",
    " \n",
    "    # remove self links - can't propogate beliefs to self - need to consider if the self links should be counted in\n",
    "    # degree still?\n",
    "    A = A - sp.dia_matrix((A.diagonal(), [0]),\n",
    "                                    shape=(A.shape[0], A.shape[0]))\n",
    "\n",
    "    # make degree matrix\n",
    "    ds = [int(x) for x in A.sum(axis=1)]\n",
    "    D = sp.dia_matrix((ds, [0]),\n",
    "                     shape=(len(ds), len(ds)))\n",
    "    \n",
    "    # compute about-half homophility factor that gaurentees convergences of W power series\n",
    "    c1 = D.sum() + 2\n",
    "    c2 = np.dot(D,D).sum() - 1 \n",
    "    h_h = sqrt((-c1+sqrt(c1**2 + 4*c2))\n",
    "               /(8*c2)\n",
    "              )\n",
    "    \n",
    "    # compute system constants ah (from ahD) and ch from (achA)\n",
    "    ah = 4*(h_h**2) /(1-4*(h_h**2))\n",
    "    ch = 2*h_h / (1-4*(h_h**2))\n",
    "    \n",
    "    # create matrix M to form (I - M)^-1\n",
    "    M = ch*A - ah*D\n",
    "    \n",
    "    # expand to power series to compute inverse\n",
    "    inv = I\n",
    "    mat = M\n",
    "    pwr = 1\n",
    "    while mat.data[mat.data.argmax()] > 10**(-9) and pwr < max_pw:\n",
    "        inv = inv + mat\n",
    "        mat = mat * M\n",
    "        pwr = pwr + 1\n",
    "    return inv"
   ]
  },
  {
   "cell_type": "code",
   "execution_count": 8,
   "metadata": {
    "collapsed": false
   },
   "outputs": [],
   "source": [
    "def DeltaCon(A1, A2):\n",
    "    \n",
    "    # quick return for identical networks\n",
    "    if (A1 != A2).nnz == 0:\n",
    "        print 'Iden'\n",
    "        return 1.0\n",
    "    \n",
    "    # initialize\n",
    "    # prior belief for nodes (doesn't really affect results of deltacon - how not???)\n",
    "    p = 0.51\n",
    "    \n",
    "    # Solve the linear BP systems (FaBP): inv corresponds to [I + ah*D - ch*A]^-1\n",
    "    # and multiple by about-half prior beliefs\n",
    "    inv1 = compute_FBP_invs(A1) * (p-0.5)\n",
    "    inv2 = compute_FBP_invs(A2) * (p-0.5)\n",
    "    \n",
    "    # compute the similarities using Matusita distance\n",
    "    diffM = (inv1.sqrt() - inv2.sqrt())\n",
    "    diffM = diffM.multiply(diffM)\n",
    "    \n",
    "    # delete diagonal entries -  the influence nodes have on themselves\n",
    "    diffM = diffM - sp.dia_matrix((diffM.diagonal(), [0]), shape=(diffM.shape[0], diffM.shape[0]))\n",
    "\n",
    "    return 1 / (1 + sqrt(diffM.sum()))"
   ]
  },
  {
   "cell_type": "markdown",
   "metadata": {},
   "source": [
    "# Applying"
   ]
  },
  {
   "cell_type": "code",
   "execution_count": 9,
   "metadata": {
    "collapsed": false
   },
   "outputs": [],
   "source": [
    "def compute_DeltaCon_sims(df, year):\n",
    "    \n",
    "    # create dataframe to store similarities\n",
    "    df_temp = pd.DataFrame()\n",
    "    \n",
    "    # for countries in dataset\n",
    "    for col1 in df:\n",
    "        print '\\n%s' % col1 # to see progress\n",
    "        \n",
    "        # if the country1 has no patents then set similarity to -1 to denote this\n",
    "        if not df.loc[year,col1]:\n",
    "            for col2 in df:\n",
    "                df_temp.loc[col1,col2] = -1\n",
    "                df_temp.loc[col2,col1] = -1\n",
    "            \n",
    "        # else create adjacency dataframe df1 (via nx.graph) for country1\n",
    "        else:\n",
    "            g1 = nx.MultiGraph()\n",
    "            for ls in df.loc[year,col1]:\n",
    "                g1.add_edges_from(combinations(ls, 2))\n",
    "            Adf1 = nx.to_pandas_dataframe(g1)\n",
    "\n",
    "            # for countries 'greater' than country1 in dataset \n",
    "            for col2 in df.loc[:, col1:]:\n",
    "                \n",
    "                # if countries are the same then set similarity to 1\n",
    "                if col1 == col2:\n",
    "                    print 'self',\n",
    "                    df_temp.loc[col1,col2] = 1\n",
    "                    \n",
    "                # else if the country is not empty then calculate DeltaCon sim for country1 and country2\n",
    "                elif df.loc[year,col2]:\n",
    "                    print col2, # to see progress\n",
    "                    \n",
    "                    # create adjacency dataframe df2 (via nx.graph) for country2\n",
    "                    g2 = nx.MultiGraph()\n",
    "                    for ls in df.loc[year,col2]:\n",
    "                        g2.add_edges_from(combinations(ls, 2))    \n",
    "                    Adf2 = nx.to_pandas_dataframe(g2)\n",
    "                    \n",
    "                    # make adjacency dataframes compatible\n",
    "                    Adf1, Adf2 = make_match_node_AdjDfs(Adf1, Adf2)\n",
    "                    \n",
    "                    # convert to csr and compute DeltaCon\n",
    "                    sim = DeltaCon(sp.csr_matrix(Adf1.values), sp.csr_matrix(Adf2.values))\n",
    "                    \n",
    "                    #assign to dataframe\n",
    "                    df_temp.loc[col1,col2] = sim\n",
    "                    df_temp.loc[col2,col1] = sim\n",
    "                    \n",
    "    return df_temp"
   ]
  },
  {
   "cell_type": "code",
   "execution_count": 10,
   "metadata": {
    "collapsed": false,
    "scrolled": false
   },
   "outputs": [
    {
     "name": "stdout",
     "output_type": "stream",
     "text": [
      "\n",
      "AT\n",
      "self AU BE CA CH DE DK ES FI FR GB GR IE IS IT JP LU NL NO SE US \n",
      "AU\n",
      "self BE CA CH DE DK ES FI FR GB GR IE IS IT JP LU NL NO SE US \n",
      "BE\n",
      "self CA CH DE DK ES FI FR GB GR IE IS IT JP LU NL NO SE US \n",
      "CA\n",
      "self CH DE DK ES FI FR GB GR IE IS IT JP LU NL NO SE US \n",
      "CH\n",
      "self DE DK ES FI FR GB GR IE IS IT JP LU NL NO SE US \n",
      "DE\n",
      "self DK ES FI FR GB GR IE IS IT JP LU NL NO SE US \n",
      "DK\n",
      "self ES FI FR GB GR IE IS IT JP LU NL NO SE US \n",
      "ES\n",
      "self FI FR GB GR IE IS IT JP LU NL NO SE US \n",
      "FI\n",
      "self FR GB GR IE IS IT JP LU NL NO SE US \n",
      "FR\n",
      "self GB GR IE IS IT JP LU NL NO SE US \n",
      "GB\n",
      "self GR IE IS IT JP LU NL NO SE US \n",
      "GR\n",
      "self IE IS IT JP LU NL NO SE US \n",
      "IE\n",
      "self IS IT JP LU NL NO SE US \n",
      "IS\n",
      "self IT JP LU NL NO SE US \n",
      "IT\n",
      "self JP LU NL NO SE US \n",
      "JP\n",
      "self LU NL NO SE US \n",
      "LU\n",
      "self NL NO SE US \n",
      "NL\n",
      "self NO SE US \n",
      "NO\n",
      "self SE US \n",
      "SE\n",
      "self US \n",
      "US\n",
      "self\n"
     ]
    }
   ],
   "source": [
    "DelCon_test_2010 = compute_DeltaCon_sims(df,2010)"
   ]
  },
  {
   "cell_type": "code",
   "execution_count": 12,
   "metadata": {
    "collapsed": true
   },
   "outputs": [],
   "source": [
    "pk.dump(DelCon_test_2010, open('pickles_and_munged_csv/sim_dfs/all_grant_no_priors_pre1950_deltacon_union_sim_2010.pk','wb'))"
   ]
  },
  {
   "cell_type": "code",
   "execution_count": 11,
   "metadata": {
    "collapsed": false
   },
   "outputs": [
    {
     "data": {
      "text/plain": [
       "<matplotlib.axes._subplots.AxesSubplot at 0x1951f96d0>"
      ]
     },
     "execution_count": 11,
     "metadata": {},
     "output_type": "execute_result"
    },
    {
     "data": {
      "image/png": "[encoded data removed]",
      "text/plain": [
       "<matplotlib.figure.Figure at 0x1951f9f90>"
      ]
     },
     "metadata": {},
     "output_type": "display_data"
    }
   ],
   "source": [
    "sns.heatmap(DelCon_test_2010)"
   ]
  },
  {
   "cell_type": "code",
   "execution_count": null,
   "metadata": {
    "collapsed": true
   },
   "outputs": [],
   "source": []
  }
 ],
 "metadata": {
  "kernelspec": {
   "display_name": "Python 2",
   "language": "python",
   "name": "python2"
  },
  "language_info": {
   "codemirror_mode": {
    "name": "ipython",
    "version": 2
   },
   "file_extension": ".py",
   "mimetype": "text/x-python",
   "name": "python",
   "nbconvert_exporter": "python",
   "pygments_lexer": "ipython2",
   "version": "2.7.11"
  }
 },
 "nbformat": 4,
 "nbformat_minor": 0
}
