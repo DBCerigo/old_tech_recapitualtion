{
 "cells": [
  {
   "cell_type": "code",
   "execution_count": null,
   "metadata": {
    "collapsed": false
   },
   "outputs": [],
   "source": [
    "%matplotlib inline\n",
    "import matplotlib.pyplot as plt\n",
    "plt.style.use('ggplot')\n",
    "import cPickle as pk\n",
    "import pandas as pd\n",
    "import networkx as nx\n",
    "from itertools import combinations\n",
    "from IPython.display import clear_output"
   ]
  },
  {
   "cell_type": "markdown",
   "metadata": {},
   "source": [
    "# Code combining into Auth Year combination sets"
   ]
  },
  {
   "cell_type": "markdown",
   "metadata": {},
   "source": [
    "##### Prelim Data Munge"
   ]
  },
  {
   "cell_type": "markdown",
   "metadata": {},
   "source": [
    "## Importing\n",
    "[to top](#Table-of-Contents) "
   ]
  },
  {
   "cell_type": "code",
   "execution_count": null,
   "metadata": {
    "collapsed": false
   },
   "outputs": [],
   "source": [
    "pwd"
   ]
  },
  {
   "cell_type": "code",
   "execution_count": null,
   "metadata": {
    "collapsed": false,
    "scrolled": true
   },
   "outputs": [],
   "source": [
    "df = pk.load(open('pickles_and_munged_csv/top11_cated_codes_as_ints_v1.pk', 'rb')); df\n",
    "#dont need ID's"
   ]
  },
  {
   "cell_type": "code",
   "execution_count": null,
   "metadata": {
    "collapsed": false
   },
   "outputs": [],
   "source": [
    "def map_nan_ls(ls):\n",
    "    if type(ls) != type([]):\n",
    "        ls = []\n",
    "    return ls\n",
    "df = df.applymap(map_nan_ls); df"
   ]
  },
  {
   "cell_type": "code",
   "execution_count": null,
   "metadata": {
    "collapsed": false,
    "scrolled": true
   },
   "outputs": [],
   "source": [
    "df.applymap(len)"
   ]
  },
  {
   "cell_type": "code",
   "execution_count": null,
   "metadata": {
    "collapsed": false
   },
   "outputs": [],
   "source": [
    "df_nds_lnks = df[df.CH == None]; df_nds_lnks"
   ]
  },
  {
   "cell_type": "code",
   "execution_count": null,
   "metadata": {
    "collapsed": false,
    "scrolled": true
   },
   "outputs": [],
   "source": [
    "df_nds_lnks = df[df.CH == None]; print df_nds_lnks\n",
    "\n",
    "for col in df:\n",
    "    print col\n",
    "    g = nx.MultiGraph()\n",
    "    for inx in df.index:\n",
    "        print inx,\n",
    "        for ls in df.loc[inx,col]:\n",
    "            g.add_edges_from(combinations(ls, 2))\n",
    "        df_nds_lnks.loc[inx,col] = [nx.number_of_nodes(g), nx.number_of_edges(g)]\n",
    "clear_output()"
   ]
  },
  {
   "cell_type": "code",
   "execution_count": null,
   "metadata": {
    "collapsed": false
   },
   "outputs": [],
   "source": [
    "df_nds_lnks"
   ]
  },
  {
   "cell_type": "markdown",
   "metadata": {
    "collapsed": true
   },
   "source": [
    "# Plotting"
   ]
  },
  {
   "cell_type": "markdown",
   "metadata": {},
   "source": [
    "## Nodes"
   ]
  },
  {
   "cell_type": "code",
   "execution_count": null,
   "metadata": {
    "collapsed": false
   },
   "outputs": [],
   "source": [
    "df_nds_lnks.applymap(lambda x: x[0]).plot()\n",
    "ax = plt.gca()\n",
    "#ax.set_yscale('log')\n",
    "df_nds_lnks.applymap(lambda x: x[0]).plot()\n",
    "ax = plt.gca()\n",
    "ax.set_yscale('log')"
   ]
  },
  {
   "cell_type": "markdown",
   "metadata": {},
   "source": [
    "## Links"
   ]
  },
  {
   "cell_type": "code",
   "execution_count": null,
   "metadata": {
    "collapsed": false
   },
   "outputs": [],
   "source": [
    "df_nds_lnks.applymap(lambda x: x[1]).plot()\n",
    "ax = plt.gca()\n",
    "#ax.set_yscale('log')\n",
    "df_nds_lnks.applymap(lambda x: x[1]).plot()\n",
    "ax = plt.gca()\n",
    "ax.set_yscale('log')"
   ]
  },
  {
   "cell_type": "markdown",
   "metadata": {},
   "source": [
    "## Densities"
   ]
  },
  {
   "cell_type": "code",
   "execution_count": null,
   "metadata": {
    "collapsed": false
   },
   "outputs": [],
   "source": [
    "def get_density(nds_lnks):\n",
    "    if nds_lnks[0] == 0:\n",
    "        return 0\n",
    "    return (nds_lnks[1]/float(nds_lnks[0]))\n",
    "\n",
    "df_nds_lnks.applymap(get_density).plot()\n",
    "ax = plt.gca()\n",
    "#ax.set_yscale('log')\n",
    "df_nds_lnks.applymap(get_density).plot()\n",
    "ax = plt.gca()\n",
    "ax.set_yscale('log')"
   ]
  }
 ],
 "metadata": {
  "kernelspec": {
   "display_name": "Python 2",
   "language": "python",
   "name": "python2"
  },
  "language_info": {
   "codemirror_mode": {
    "name": "ipython",
    "version": 2
   },
   "file_extension": ".py",
   "mimetype": "text/x-python",
   "name": "python",
   "nbconvert_exporter": "python",
   "pygments_lexer": "ipython2",
   "version": "2.7.11"
  }
 },
 "nbformat": 4,
 "nbformat_minor": 0
}
