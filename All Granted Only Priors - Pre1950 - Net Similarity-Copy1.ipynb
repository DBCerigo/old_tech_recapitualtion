{
 "cells": [
  {
   "cell_type": "code",
   "execution_count": null,
   "metadata": {
    "collapsed": false
   },
   "outputs": [],
   "source": [
    "%matplotlib inline\n",
    "import matplotlib.pyplot as plt\n",
    "plt.style.use('ggplot')\n",
    "from IPython.display import clear_output\n",
    "import seaborn as sns\n",
    "\n",
    "import cPickle as pk\n",
    "import pandas as pd\n",
    "import networkx as nx\n",
    "import scipy.sparse as sp\n",
    "import itertools as itls\n",
    "from itertools import combinations\n",
    "import numpy as np\n",
    "from math import sqrt\n",
    "\n",
    "import sys"
   ]
  },
  {
   "cell_type": "markdown",
   "metadata": {},
   "source": [
    "## Importing\n",
    "[to top](#Table-of-Contents) "
   ]
  },
  {
   "cell_type": "code",
   "execution_count": null,
   "metadata": {
    "collapsed": false
   },
   "outputs": [],
   "source": [
    "pwd"
   ]
  },
  {
   "cell_type": "code",
   "execution_count": null,
   "metadata": {
    "collapsed": false,
    "scrolled": true
   },
   "outputs": [],
   "source": [
    "df = pk.load(open('pickles_and_munged_csv/pre1950_cated_cumed_codes_as_ints_v1.pk', 'rb')); df.head()"
   ]
  },
  {
   "cell_type": "code",
   "execution_count": null,
   "metadata": {
    "collapsed": false
   },
   "outputs": [],
   "source": [
    "df.drop('SU', axis=1, inplace=True)"
   ]
  },
  {
   "cell_type": "code",
   "execution_count": null,
   "metadata": {
    "collapsed": false,
    "scrolled": true
   },
   "outputs": [],
   "source": [
    "print df.columns.values"
   ]
  },
  {
   "cell_type": "markdown",
   "metadata": {},
   "source": [
    "# AdjM building"
   ]
  },
  {
   "cell_type": "code",
   "execution_count": null,
   "metadata": {
    "collapsed": true
   },
   "outputs": [],
   "source": []
  },
  {
   "cell_type": "markdown",
   "metadata": {},
   "source": [
    "# DeltaCon"
   ]
  },
  {
   "cell_type": "code",
   "execution_count": null,
   "metadata": {
    "collapsed": false
   },
   "outputs": [],
   "source": [
    "def compute_FBP_invs(A):\n",
    "\n",
    "    # max power to calculate inverse to\n",
    "    max_pw = 7\n",
    "\n",
    "    # make identity\n",
    "    I = sp.identity(A.shape[0])\n",
    " \n",
    "   # remove self links - can't propogate beliefs to self - need to consider if the self links should be counted in\n",
    "    # degree still?\n",
    "    A = A - sp.dia_matrix((A.diagonal(), [0]),\n",
    "                                    shape=(A.shape[0], A.shape[0]))\n",
    "\n",
    "    # make degree matrix\n",
    "    ds = [int(x) for x in A.sum(axis=1)]\n",
    "    D = sp.dia_matrix((ds, [0]),\n",
    "                     shape=(len(ds), len(ds)))\n",
    "    \n",
    "    # compute about-half homophility factor that gaurentees convergences of W power series\n",
    "    c1 = D.sum() + 2\n",
    "    c2 = np.dot(D,D).sum() - 1\n",
    "    h_h = sqrt((-c1+sqrt(c1**2 + 4*c2))\n",
    "               /(8*c2)\n",
    "              )\n",
    "    \n",
    "    # compute system constants ah (from ahD) and ch from (achA)\n",
    "    ah = 4*(h_h**2) /(1-4*(h_h**2))\n",
    "    ch = 2*h_h / (1-4*(h_h**2))\n",
    "    \n",
    "    # create matrix M to form (I - M)^-1\n",
    "    M = ch*A - ah*D\n",
    "    \n",
    "    # expand to power series to compute inverse\n",
    "    inv = I\n",
    "    mat = M\n",
    "    pwr = 1\n",
    "    while mat.data[mat.data.argmax()] > 10**(-9) and pwr < max_pw:\n",
    "        inv = inv + mat\n",
    "        mat = mat * M\n",
    "        pwr = pwr + 1\n",
    "    return inv"
   ]
  },
  {
   "cell_type": "code",
   "execution_count": null,
   "metadata": {
    "collapsed": true
   },
   "outputs": [],
   "source": [
    "def DeltaCon(A1, A2):\n",
    "    \n",
    "    # initialize\n",
    "    # prior belief for nodes (doesn't really affect results of deltacon)\n",
    "    p = 0.501\n",
    "    \n",
    "    # Solve the linear BP systems (FaBP): inv corresponds to [I + ah*D - ch*A]^-1\n",
    "    # and multiple by about-half prior beliefs\n",
    "    inv1 = compute_FBP_invs(A1) * (p-0.5)\n",
    "    inv2 = compute_FBP_invs(A2) * (p-0.5)\n",
    "    \n",
    "    # compute the similarities using Matusita distance\n",
    "    diffM = (inv1.sqrt() - inv2.sqrt()) ** 2\n",
    "    # delete diagonal entries -  the influence nodes have on themselves\n",
    "    diffM = diffM - sp.dia_matrix((diffM.diagonal(), [0]), shape=(diffM.shape[0], diffM.shape[0]))\n",
    "    return 1 / (1 + sqrt(diffM.sum()))"
   ]
  },
  {
   "cell_type": "markdown",
   "metadata": {},
   "source": [
    "# Applying"
   ]
  },
  {
   "cell_type": "code",
   "execution_count": null,
   "metadata": {
    "collapsed": false
   },
   "outputs": [],
   "source": [
    "def compute_DeltaCon_sims(df, year):\n",
    "    df_temp = pd.DataFrame()\n",
    "    for col1 in df:\n",
    "        print '\\n%s' % col1\n",
    "        if len(df.loc[year,col1]) == 0:\n",
    "            for col2 in df:\n",
    "                df_temp.loc[col1,col2] = -1\n",
    "        else:\n",
    "            g1 = nx.MultiGraph()\n",
    "            for ls in df.loc[year,col1]:\n",
    "                g1.add_edges_from(combinations(ls, 2))\n",
    "\n",
    "            for col2 in df:\n",
    "                print col2,\n",
    "                if len(df.loc[year,col2]) == 0:\n",
    "                    df_temp.loc[col1,col2] = -1\n",
    "                else:\n",
    "                    g2 = nx.MultiGraph()\n",
    "                    for ls in df.loc[year,col2]:\n",
    "                        g2.add_edges_from(combinations(ls, 2))\n",
    "                    \n",
    "                    \n",
    "                        \n",
    "                    df_temp.loc[col1,col2] = DeltaCon(nx.adj_matrix(g1),nx.adj_matrix(g2))\n",
    "    return df_temp"
   ]
  },
  {
   "cell_type": "code",
   "execution_count": null,
   "metadata": {
    "collapsed": false,
    "scrolled": true
   },
   "outputs": [],
   "source": [
    "DelCon_test_v1 = compute_DeltaCon_sims(df,1960)"
   ]
  },
  {
   "cell_type": "markdown",
   "metadata": {},
   "source": [
    "# Timing"
   ]
  },
  {
   "cell_type": "code",
   "execution_count": null,
   "metadata": {
    "collapsed": false
   },
   "outputs": [],
   "source": [
    "%%timeit\n",
    "g_US = nx.MultiGraph()\n",
    "for ls in df.loc[2010,'US']:\n",
    "    g_US.add_edges_from(combinations(ls, 2))"
   ]
  },
  {
   "cell_type": "code",
   "execution_count": null,
   "metadata": {
    "collapsed": false
   },
   "outputs": [],
   "source": [
    "%%timeit\n",
    "for ls in df.loc[2010,'US']:\n",
    "    combinations(ls, 2)"
   ]
  },
  {
   "cell_type": "code",
   "execution_count": null,
   "metadata": {
    "collapsed": false
   },
   "outputs": [],
   "source": [
    "g_US = nx.MultiGraph()\n",
    "for ls in df.loc[2010,'US']:\n",
    "    g_US.add_edges_from(combinations(ls, 2))"
   ]
  },
  {
   "cell_type": "code",
   "execution_count": null,
   "metadata": {
    "collapsed": false
   },
   "outputs": [],
   "source": [
    "%%timeit\n",
    "A_US = nx.adj_matrix(g_US)"
   ]
  },
  {
   "cell_type": "code",
   "execution_count": null,
   "metadata": {
    "collapsed": false
   },
   "outputs": [],
   "source": [
    "%time A_US = nx.adj_matrix(g_US)"
   ]
  },
  {
   "cell_type": "code",
   "execution_count": null,
   "metadata": {
    "collapsed": false
   },
   "outputs": [],
   "source": [
    "print sys.getsizeof(A_US)\n",
    "print sys.getsizeof(g_US)\n",
    "print sys.getsizeof()"
   ]
  },
  {
   "cell_type": "code",
   "execution_count": null,
   "metadata": {
    "collapsed": false
   },
   "outputs": [],
   "source": [
    "g_US"
   ]
  },
  {
   "cell_type": "code",
   "execution_count": null,
   "metadata": {
    "collapsed": false
   },
   "outputs": [],
   "source": [
    "A_US"
   ]
  },
  {
   "cell_type": "code",
   "execution_count": null,
   "metadata": {
    "collapsed": false
   },
   "outputs": [],
   "source": [
    "print A_US\n",
    "print A_US[0,23]"
   ]
  },
  {
   "cell_type": "code",
   "execution_count": null,
   "metadata": {
    "collapsed": false
   },
   "outputs": [],
   "source": [
    "A_US[:,:]"
   ]
  },
  {
   "cell_type": "code",
   "execution_count": null,
   "metadata": {
    "collapsed": false
   },
   "outputs": [],
   "source": [
    "who"
   ]
  },
  {
   "cell_type": "code",
   "execution_count": null,
   "metadata": {
    "collapsed": true
   },
   "outputs": [],
   "source": []
  }
 ],
 "metadata": {
  "kernelspec": {
   "display_name": "Python 2",
   "language": "python",
   "name": "python2"
  },
  "language_info": {
   "codemirror_mode": {
    "name": "ipython",
    "version": 2
   },
   "file_extension": ".py",
   "mimetype": "text/x-python",
   "name": "python",
   "nbconvert_exporter": "python",
   "pygments_lexer": "ipython2",
   "version": "2.7.11"
  }
 },
 "nbformat": 4,
 "nbformat_minor": 0
}
