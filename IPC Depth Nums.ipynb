{
 "cells": [
  {
   "cell_type": "code",
   "execution_count": 1,
   "metadata": {
    "collapsed": false
   },
   "outputs": [],
   "source": [
    "%matplotlib inline\n",
    "import matplotlib.pyplot as plt\n",
    "plt.style.use('ggplot')\n",
    "import cPickle as pk\n",
    "import pandas as pd"
   ]
  },
  {
   "cell_type": "markdown",
   "metadata": {},
   "source": [
    "# IPC Depth Nums"
   ]
  },
  {
   "cell_type": "markdown",
   "metadata": {},
   "source": [
    "## Importing\n",
    "[to top](#Table-of-Contents) "
   ]
  },
  {
   "cell_type": "code",
   "execution_count": 2,
   "metadata": {
    "collapsed": false
   },
   "outputs": [
    {
     "data": {
      "text/plain": [
       "u'/Users/innovation-sfi/Dropbox/Research/Innovation/EPO/Data_processing/Python'"
      ]
     },
     "execution_count": 2,
     "metadata": {},
     "output_type": "execute_result"
    }
   ],
   "source": [
    "pwd"
   ]
  },
  {
   "cell_type": "code",
   "execution_count": 3,
   "metadata": {
    "collapsed": true
   },
   "outputs": [],
   "source": [
    "f_all_grants = '../Data_Play/IPC/ipc_code_list.csv'"
   ]
  },
  {
   "cell_type": "code",
   "execution_count": 4,
   "metadata": {
    "collapsed": false
   },
   "outputs": [
    {
     "data": {
      "text/html": [
       "<div>\n",
       "<table border=\"1\" class=\"dataframe\">\n",
       "  <thead>\n",
       "    <tr style=\"text-align: right;\">\n",
       "      <th></th>\n",
       "      <th>0</th>\n",
       "    </tr>\n",
       "  </thead>\n",
       "  <tbody>\n",
       "    <tr>\n",
       "      <th>0</th>\n",
       "      <td>A</td>\n",
       "    </tr>\n",
       "    <tr>\n",
       "      <th>1</th>\n",
       "      <td>A01</td>\n",
       "    </tr>\n",
       "    <tr>\n",
       "      <th>2</th>\n",
       "      <td>A01B</td>\n",
       "    </tr>\n",
       "    <tr>\n",
       "      <th>3</th>\n",
       "      <td>A01B0001000000</td>\n",
       "    </tr>\n",
       "    <tr>\n",
       "      <th>4</th>\n",
       "      <td>A01B0001020000</td>\n",
       "    </tr>\n",
       "  </tbody>\n",
       "</table>\n",
       "</div>"
      ],
      "text/plain": [
       "                0\n",
       "0               A\n",
       "1             A01\n",
       "2            A01B\n",
       "3  A01B0001000000\n",
       "4  A01B0001020000"
      ]
     },
     "execution_count": 4,
     "metadata": {},
     "output_type": "execute_result"
    }
   ],
   "source": [
    "df = pd.read_csv(f_all_grants, engine='c', header=None); df.head()\n",
    "#dont need ID's"
   ]
  },
  {
   "cell_type": "code",
   "execution_count": 5,
   "metadata": {
    "collapsed": false
   },
   "outputs": [],
   "source": [
    "df['len'] = df.applymap(len)"
   ]
  },
  {
   "cell_type": "code",
   "execution_count": 6,
   "metadata": {
    "collapsed": false
   },
   "outputs": [
    {
     "data": {
      "text/plain": [
       "len\n",
       "1         8\n",
       "3       130\n",
       "4       639\n",
       "14    73125\n",
       "dtype: int64"
      ]
     },
     "execution_count": 6,
     "metadata": {},
     "output_type": "execute_result"
    }
   ],
   "source": [
    "grp = df.groupby('len')\n",
    "nums = grp.size(); nums"
   ]
  },
  {
   "cell_type": "code",
   "execution_count": 7,
   "metadata": {
    "collapsed": false,
    "scrolled": true
   },
   "outputs": [
    {
     "data": {
      "text/html": [
       "<div>\n",
       "<table border=\"1\" class=\"dataframe\">\n",
       "  <thead>\n",
       "    <tr style=\"text-align: right;\">\n",
       "      <th></th>\n",
       "      <th>0</th>\n",
       "    </tr>\n",
       "  </thead>\n",
       "  <tbody>\n",
       "    <tr>\n",
       "      <th>3</th>\n",
       "      <td>A01B0001000000</td>\n",
       "    </tr>\n",
       "    <tr>\n",
       "      <th>4</th>\n",
       "      <td>A01B0001020000</td>\n",
       "    </tr>\n",
       "    <tr>\n",
       "      <th>5</th>\n",
       "      <td>A01B0001040000</td>\n",
       "    </tr>\n",
       "    <tr>\n",
       "      <th>6</th>\n",
       "      <td>A01B0001060000</td>\n",
       "    </tr>\n",
       "    <tr>\n",
       "      <th>7</th>\n",
       "      <td>A01B0001080000</td>\n",
       "    </tr>\n",
       "    <tr>\n",
       "      <th>8</th>\n",
       "      <td>A01B0001100000</td>\n",
       "    </tr>\n",
       "    <tr>\n",
       "      <th>9</th>\n",
       "      <td>A01B0001120000</td>\n",
       "    </tr>\n",
       "    <tr>\n",
       "      <th>10</th>\n",
       "      <td>A01B0001140000</td>\n",
       "    </tr>\n",
       "    <tr>\n",
       "      <th>11</th>\n",
       "      <td>A01B0001160000</td>\n",
       "    </tr>\n",
       "    <tr>\n",
       "      <th>12</th>\n",
       "      <td>A01B0001180000</td>\n",
       "    </tr>\n",
       "    <tr>\n",
       "      <th>13</th>\n",
       "      <td>A01B0001200000</td>\n",
       "    </tr>\n",
       "    <tr>\n",
       "      <th>14</th>\n",
       "      <td>A01B0001220000</td>\n",
       "    </tr>\n",
       "    <tr>\n",
       "      <th>15</th>\n",
       "      <td>A01B0001240000</td>\n",
       "    </tr>\n",
       "    <tr>\n",
       "      <th>16</th>\n",
       "      <td>A01B0003000000</td>\n",
       "    </tr>\n",
       "    <tr>\n",
       "      <th>17</th>\n",
       "      <td>A01B0003000000</td>\n",
       "    </tr>\n",
       "    <tr>\n",
       "      <th>18</th>\n",
       "      <td>A01B0003020000</td>\n",
       "    </tr>\n",
       "    <tr>\n",
       "      <th>19</th>\n",
       "      <td>A01B0003040000</td>\n",
       "    </tr>\n",
       "    <tr>\n",
       "      <th>20</th>\n",
       "      <td>A01B0003060000</td>\n",
       "    </tr>\n",
       "    <tr>\n",
       "      <th>21</th>\n",
       "      <td>A01B0003080000</td>\n",
       "    </tr>\n",
       "    <tr>\n",
       "      <th>22</th>\n",
       "      <td>A01B0003100000</td>\n",
       "    </tr>\n",
       "    <tr>\n",
       "      <th>23</th>\n",
       "      <td>A01B0003120000</td>\n",
       "    </tr>\n",
       "    <tr>\n",
       "      <th>24</th>\n",
       "      <td>A01B0003140000</td>\n",
       "    </tr>\n",
       "    <tr>\n",
       "      <th>25</th>\n",
       "      <td>A01B0003160000</td>\n",
       "    </tr>\n",
       "    <tr>\n",
       "      <th>26</th>\n",
       "      <td>A01B0003180000</td>\n",
       "    </tr>\n",
       "    <tr>\n",
       "      <th>27</th>\n",
       "      <td>A01B0003200000</td>\n",
       "    </tr>\n",
       "    <tr>\n",
       "      <th>28</th>\n",
       "      <td>A01B0003220000</td>\n",
       "    </tr>\n",
       "    <tr>\n",
       "      <th>29</th>\n",
       "      <td>A01B0003240000</td>\n",
       "    </tr>\n",
       "    <tr>\n",
       "      <th>30</th>\n",
       "      <td>A01B0003260000</td>\n",
       "    </tr>\n",
       "    <tr>\n",
       "      <th>31</th>\n",
       "      <td>A01B0003280000</td>\n",
       "    </tr>\n",
       "    <tr>\n",
       "      <th>32</th>\n",
       "      <td>A01B0003300000</td>\n",
       "    </tr>\n",
       "    <tr>\n",
       "      <th>...</th>\n",
       "      <td>...</td>\n",
       "    </tr>\n",
       "    <tr>\n",
       "      <th>73870</th>\n",
       "      <td>H05K0003400000</td>\n",
       "    </tr>\n",
       "    <tr>\n",
       "      <th>73871</th>\n",
       "      <td>H05K0003420000</td>\n",
       "    </tr>\n",
       "    <tr>\n",
       "      <th>73872</th>\n",
       "      <td>H05K0003440000</td>\n",
       "    </tr>\n",
       "    <tr>\n",
       "      <th>73873</th>\n",
       "      <td>H05K0003460000</td>\n",
       "    </tr>\n",
       "    <tr>\n",
       "      <th>73874</th>\n",
       "      <td>H05K0005000000</td>\n",
       "    </tr>\n",
       "    <tr>\n",
       "      <th>73875</th>\n",
       "      <td>H05K0005020000</td>\n",
       "    </tr>\n",
       "    <tr>\n",
       "      <th>73876</th>\n",
       "      <td>H05K0005030000</td>\n",
       "    </tr>\n",
       "    <tr>\n",
       "      <th>73877</th>\n",
       "      <td>H05K0005040000</td>\n",
       "    </tr>\n",
       "    <tr>\n",
       "      <th>73878</th>\n",
       "      <td>H05K0005060000</td>\n",
       "    </tr>\n",
       "    <tr>\n",
       "      <th>73879</th>\n",
       "      <td>H05K0007000000</td>\n",
       "    </tr>\n",
       "    <tr>\n",
       "      <th>73880</th>\n",
       "      <td>H05K0007020000</td>\n",
       "    </tr>\n",
       "    <tr>\n",
       "      <th>73881</th>\n",
       "      <td>H05K0007040000</td>\n",
       "    </tr>\n",
       "    <tr>\n",
       "      <th>73882</th>\n",
       "      <td>H05K0007060000</td>\n",
       "    </tr>\n",
       "    <tr>\n",
       "      <th>73883</th>\n",
       "      <td>H05K0007080000</td>\n",
       "    </tr>\n",
       "    <tr>\n",
       "      <th>73884</th>\n",
       "      <td>H05K0007100000</td>\n",
       "    </tr>\n",
       "    <tr>\n",
       "      <th>73885</th>\n",
       "      <td>H05K0007120000</td>\n",
       "    </tr>\n",
       "    <tr>\n",
       "      <th>73886</th>\n",
       "      <td>H05K0007140000</td>\n",
       "    </tr>\n",
       "    <tr>\n",
       "      <th>73887</th>\n",
       "      <td>H05K0007160000</td>\n",
       "    </tr>\n",
       "    <tr>\n",
       "      <th>73888</th>\n",
       "      <td>H05K0007180000</td>\n",
       "    </tr>\n",
       "    <tr>\n",
       "      <th>73889</th>\n",
       "      <td>H05K0007200000</td>\n",
       "    </tr>\n",
       "    <tr>\n",
       "      <th>73890</th>\n",
       "      <td>H05K0009000000</td>\n",
       "    </tr>\n",
       "    <tr>\n",
       "      <th>73891</th>\n",
       "      <td>H05K0010000000</td>\n",
       "    </tr>\n",
       "    <tr>\n",
       "      <th>73892</th>\n",
       "      <td>H05K0011000000</td>\n",
       "    </tr>\n",
       "    <tr>\n",
       "      <th>73893</th>\n",
       "      <td>H05K0011020000</td>\n",
       "    </tr>\n",
       "    <tr>\n",
       "      <th>73894</th>\n",
       "      <td>H05K0013000000</td>\n",
       "    </tr>\n",
       "    <tr>\n",
       "      <th>73895</th>\n",
       "      <td>H05K0013020000</td>\n",
       "    </tr>\n",
       "    <tr>\n",
       "      <th>73896</th>\n",
       "      <td>H05K0013040000</td>\n",
       "    </tr>\n",
       "    <tr>\n",
       "      <th>73897</th>\n",
       "      <td>H05K0013060000</td>\n",
       "    </tr>\n",
       "    <tr>\n",
       "      <th>73898</th>\n",
       "      <td>H05K0013080000</td>\n",
       "    </tr>\n",
       "    <tr>\n",
       "      <th>73901</th>\n",
       "      <td>H99Z0099000000</td>\n",
       "    </tr>\n",
       "  </tbody>\n",
       "</table>\n",
       "<p>73125 rows × 1 columns</p>\n",
       "</div>"
      ],
      "text/plain": [
       "                    0\n",
       "3      A01B0001000000\n",
       "4      A01B0001020000\n",
       "5      A01B0001040000\n",
       "6      A01B0001060000\n",
       "7      A01B0001080000\n",
       "8      A01B0001100000\n",
       "9      A01B0001120000\n",
       "10     A01B0001140000\n",
       "11     A01B0001160000\n",
       "12     A01B0001180000\n",
       "13     A01B0001200000\n",
       "14     A01B0001220000\n",
       "15     A01B0001240000\n",
       "16     A01B0003000000\n",
       "17     A01B0003000000\n",
       "18     A01B0003020000\n",
       "19     A01B0003040000\n",
       "20     A01B0003060000\n",
       "21     A01B0003080000\n",
       "22     A01B0003100000\n",
       "23     A01B0003120000\n",
       "24     A01B0003140000\n",
       "25     A01B0003160000\n",
       "26     A01B0003180000\n",
       "27     A01B0003200000\n",
       "28     A01B0003220000\n",
       "29     A01B0003240000\n",
       "30     A01B0003260000\n",
       "31     A01B0003280000\n",
       "32     A01B0003300000\n",
       "...               ...\n",
       "73870  H05K0003400000\n",
       "73871  H05K0003420000\n",
       "73872  H05K0003440000\n",
       "73873  H05K0003460000\n",
       "73874  H05K0005000000\n",
       "73875  H05K0005020000\n",
       "73876  H05K0005030000\n",
       "73877  H05K0005040000\n",
       "73878  H05K0005060000\n",
       "73879  H05K0007000000\n",
       "73880  H05K0007020000\n",
       "73881  H05K0007040000\n",
       "73882  H05K0007060000\n",
       "73883  H05K0007080000\n",
       "73884  H05K0007100000\n",
       "73885  H05K0007120000\n",
       "73886  H05K0007140000\n",
       "73887  H05K0007160000\n",
       "73888  H05K0007180000\n",
       "73889  H05K0007200000\n",
       "73890  H05K0009000000\n",
       "73891  H05K0010000000\n",
       "73892  H05K0011000000\n",
       "73893  H05K0011020000\n",
       "73894  H05K0013000000\n",
       "73895  H05K0013020000\n",
       "73896  H05K0013040000\n",
       "73897  H05K0013060000\n",
       "73898  H05K0013080000\n",
       "73901  H99Z0099000000\n",
       "\n",
       "[73125 rows x 1 columns]"
      ]
     },
     "execution_count": 7,
     "metadata": {},
     "output_type": "execute_result"
    }
   ],
   "source": [
    "s1 = grp.get_group(14); s1\n",
    "s = s1.drop('len', axis=1); s"
   ]
  },
  {
   "cell_type": "code",
   "execution_count": 8,
   "metadata": {
    "collapsed": false
   },
   "outputs": [
    {
     "data": {
      "text/html": [
       "<div>\n",
       "<table border=\"1\" class=\"dataframe\">\n",
       "  <thead>\n",
       "    <tr style=\"text-align: right;\">\n",
       "      <th></th>\n",
       "      <th>0</th>\n",
       "    </tr>\n",
       "  </thead>\n",
       "  <tbody>\n",
       "    <tr>\n",
       "      <th>3</th>\n",
       "      <td>A01B0001000000</td>\n",
       "    </tr>\n",
       "  </tbody>\n",
       "</table>\n",
       "</div>"
      ],
      "text/plain": [
       "                0\n",
       "3  A01B0001000000"
      ]
     },
     "execution_count": 8,
     "metadata": {},
     "output_type": "execute_result"
    }
   ],
   "source": [
    "s[s[0] == 'A01B0001000000']"
   ]
  },
  {
   "cell_type": "code",
   "execution_count": 9,
   "metadata": {
    "collapsed": false
   },
   "outputs": [
    {
     "data": {
      "text/plain": [
       "7434"
      ]
     },
     "execution_count": 9,
     "metadata": {},
     "output_type": "execute_result"
    }
   ],
   "source": [
    "df_7 = s.applymap(lambda x: x[:8])\n",
    "len(df_7[0].value_counts())"
   ]
  },
  {
   "cell_type": "code",
   "execution_count": 10,
   "metadata": {
    "collapsed": false
   },
   "outputs": [
    {
     "name": "stdout",
     "output_type": "stream",
     "text": [
      "[8, 130, 639, 7434, 72586]\n",
      "[0, 1, 2, 3, 4]\n"
     ]
    }
   ],
   "source": [
    "depths = [1,3,4,8,14]\n",
    "nums = []\n",
    "for i in depths:\n",
    "    dff = s.applymap(lambda x: x[:i])\n",
    "    nums.append(len(dff[0].value_counts()))\n",
    "print nums\n",
    "print range(len(nums))"
   ]
  },
  {
   "cell_type": "code",
   "execution_count": 11,
   "metadata": {
    "collapsed": false
   },
   "outputs": [
    {
     "name": "stdout",
     "output_type": "stream",
     "text": [
      "[8, 130, 639, 7434, 72586]\n",
      "['A', 'A01', 'A01B', 'A01B 01', 'A01B 01/01']\n"
     ]
    },
    {
     "data": {
      "image/png": "[encoded data removed]",
      "text/plain": [
       "<matplotlib.figure.Figure at 0x10af8f790>"
      ]
     },
     "metadata": {},
     "output_type": "display_data"
    },
    {
     "data": {
      "image/png": "[encoded data removed]",
      "text/plain": [
       "<matplotlib.figure.Figure at 0x10b3f1f10>"
      ]
     },
     "metadata": {},
     "output_type": "display_data"
    }
   ],
   "source": [
    "labels_cd = ['A', 'A01', 'A01B', 'A01B 01', 'A01B 01/01']\n",
    "x = range(len(nums))\n",
    "\n",
    "print nums\n",
    "print labels_cd\n",
    "\n",
    "plt.plot(x, nums)\n",
    "plt.xticks(x, labels_cd, fontsize=14)\n",
    "plt.yticks(fontsize=14)\n",
    "plt.ylabel('Num. Unique Codes', fontsize=20)\n",
    "plt.xlabel('Depth Level E.g.', fontsize=20)\n",
    "\n",
    "\n",
    "plt.show()\n",
    "\n",
    "plt.plot(x, nums)\n",
    "ax = plt.gca()\n",
    "ax.set_yscale('log')\n",
    "plt.xticks(x, labels_cd, fontsize=14)\n",
    "plt.yticks(fontsize=14)\n",
    "plt.ylabel('Num. Unique Codes', fontsize=20)\n",
    "plt.xlabel('Depth Level E.g.', fontsize=20)\n",
    "\n",
    "plt.show()\n"
   ]
  },
  {
   "cell_type": "markdown",
   "metadata": {},
   "source": [
    "Why we chose depth at A01B 01 - the Subclass level:\n",
    "* Trying to get a workable resoultion\n",
    "    * 639 would be too coarse/lossing too much information, whereares 72 thousand would be much too detailed to make the statistics inteligable\n",
    "* Note, strictly speaking the actual group code is A01B 01/00 \n",
    "    * The split is not denoted by string length but by 00 vs not 00. Splitting at '/' has the same result as filtering 00 vs not 00.\n",
    "* Another reason for not using beyond Groups is that the further subgrouping is hierarchical but the information to build this hierarchy of subgroups isn't contained within the codes themselves, i.e not dependent upon the numbering or number of characters E.g:\n",
    "    * Code G01N 33/487 is the supergroup of G01N 33/49. See IPC guide page 7 for explication and examples.\n",
    "        * [http://www.wipo.int/export/sites/www/classifications/ipc/en/guide/guide_ipc.pdf]\n",
    "\n",
    "Notes on CPC:\n",
    "* (Generally) only a further detailing of the IPC system, i.e only adds further levels of detail to the codes without changing any of the structure examples http://www.cooperativepatentclassification.org/cpc/scheme/A/scheme-A01B.pdf\n",
    "    * So truncating CPCs turns them into IPC codes\n",
    "    * Counter example see WARNING in http://www.cooperativepatentclassification.org/cpc/scheme/A/scheme-A01B.pdf\n",
    "    * We should ask the US guys how far up the hierarchy this can occur - if only at the subgroup level then it wont effect as we truncate to groups"
   ]
  }
 ],
 "metadata": {
  "kernelspec": {
   "display_name": "Python 2",
   "language": "python",
   "name": "python2"
  },
  "language_info": {
   "codemirror_mode": {
    "name": "ipython",
    "version": 2
   },
   "file_extension": ".py",
   "mimetype": "text/x-python",
   "name": "python",
   "nbconvert_exporter": "python",
   "pygments_lexer": "ipython2",
   "version": "2.7.11"
  }
 },
 "nbformat": 4,
 "nbformat_minor": 0
}
