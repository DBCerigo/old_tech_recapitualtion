{
 "cells": [
  {
   "cell_type": "code",
   "execution_count": 53,
   "metadata": {
    "collapsed": false
   },
   "outputs": [],
   "source": [
    "%matplotlib inline\n",
    "import matplotlib.pyplot as plt\n",
    "plt.style.use('ggplot')\n",
    "import cPickle as pk\n",
    "import pandas as pd"
   ]
  },
  {
   "cell_type": "markdown",
   "metadata": {},
   "source": [
    "# Munging US CPC to IPC into data Checking Compatibility"
   ]
  },
  {
   "cell_type": "markdown",
   "metadata": {},
   "source": [
    "## SQL Query used on PATSTAT 2015 Spring"
   ]
  },
  {
   "cell_type": "raw",
   "metadata": {},
   "source": [
    "=== All Granted Only Priorities IPC .v1 === \n",
    "\n",
    "SELECT tls211_pat_publn.publn_nr, tls201_appln.appln_auth, tls211_pat_publn.publn_date, tls201_appln.appln_id, tls209_appln_ipc.ipc_class_symbol\n",
    "FROM tls201_appln\n",
    "INNER JOIN tls211_pat_publn ON tls211_pat_publn.appln_id = tls201_appln.appln_id\n",
    "INNER JOIN tls209_appln_ipc ON tls209_appln_ipc.appln_id = tls201_appln.appln_id\n",
    "WHERE tls201_appln.appln_id NOT IN \n",
    "\t(\n",
    "    SELECT appln_id\n",
    "    FROM tls204_appln_prior\n",
    "    )\n",
    "AND tls211_pat_publn.publn_first_grant = 1\n",
    "\n",
    "\n",
    "\n",
    "\n",
    "=== All Granted Only Priorities Only US CPC.v1===\n",
    "\n",
    "SELECT tls211_pat_publn.publn_nr, tls201_appln.appln_auth, tls211_pat_publn.publn_date, tls201_appln.appln_id, tls224_appln_cpc.cpc_class_symbol\n",
    "FROM tls201_appln\n",
    "INNER JOIN tls211_pat_publn ON tls211_pat_publn.appln_id = tls201_appln.appln_id\n",
    "INNER JOIN tls224_appln_cpc ON tls224_appln_cpc.appln_id = tls201_appln.appln_id\n",
    "WHERE tls201_appln.appln_id NOT IN \n",
    "\t(\n",
    "    SELECT appln_id\n",
    "    FROM tls204_appln_prior\n",
    "    )\n",
    "AND tls211_pat_publn.publn_first_grant = 1\n",
    "AND tls201_appln.appln_auth = 'US'"
   ]
  },
  {
   "cell_type": "markdown",
   "metadata": {},
   "source": [
    "## Importing\n",
    "[to top](#Table-of-Contents) "
   ]
  },
  {
   "cell_type": "code",
   "execution_count": 54,
   "metadata": {
    "collapsed": false
   },
   "outputs": [
    {
     "data": {
      "text/plain": [
       "u'/Users/innovation-sfi/Dropbox/Research/Innovation/EPO/Data_processing/Python'"
      ]
     },
     "execution_count": 54,
     "metadata": {},
     "output_type": "execute_result"
    }
   ],
   "source": [
    "pwd"
   ]
  },
  {
   "cell_type": "markdown",
   "metadata": {},
   "source": [
    "# CPC"
   ]
  },
  {
   "cell_type": "code",
   "execution_count": 55,
   "metadata": {
    "collapsed": true
   },
   "outputs": [],
   "source": [
    "f_all_grants = '../Data_Play/all_grant_only_prior_US_cpc_v1.csv'"
   ]
  },
  {
   "cell_type": "code",
   "execution_count": 56,
   "metadata": {
    "collapsed": false
   },
   "outputs": [],
   "source": [
    "USdf = pd.read_csv(f_all_grants, engine='c', dtype={'publn_nr':str,'appln_id':str})\n",
    "#dont need ID's"
   ]
  },
  {
   "cell_type": "code",
   "execution_count": 57,
   "metadata": {
    "collapsed": false
   },
   "outputs": [
    {
     "name": "stdout",
     "output_type": "stream",
     "text": [
      "  publn_nr appln_auth  publn_date  appln_id cpc_class_symbol\n",
      "0   718793         US  1903-01-20  46789746      F24C   1/02\n",
      "1  1113768         US  1914-10-13  47666487    A61M   1/0005\n",
      "2  1113768         US  1914-10-13  47666487     F04B  53/164\n",
      "3  1216480         US  1917-02-20  47845187      H04M   1/02\n",
      "4   353089         US  1886-11-23  46162467     A63B  21/062\n",
      "(15150421, 5)\n",
      "        publn_nr appln_auth  publn_date  appln_id cpc_class_symbol\n",
      "count   15150421   15150421    15150421  15150421         15150421\n",
      "unique   5578666          1        9638   5583429           217189\n",
      "top      6861964         US  2014-09-16  53279350    H01L2924/0002\n",
      "freq         337   15150421       11419       337            17047\n"
     ]
    }
   ],
   "source": [
    "print USdf.head()\n",
    "print USdf.shape\n",
    "print USdf.describe()"
   ]
  },
  {
   "cell_type": "markdown",
   "metadata": {},
   "source": [
    "Most common code is Indexing scheme for arrangements or methods for connecting or disconnecting semiconductor or solid-state bodies as covered by H01L 24/00\n",
    "\n",
    "NOTE: Codes H01L 2924/0001 to H01L 2924/0002 are used to describe the status of reclassification; they do not relate to technical features as such\n",
    "\n",
    ". H01L 2924/0001 Technical content checked by a classifier\n",
    "\n",
    ". . H01L 2924/0002 Not covered by any one of groups H01L 24/00, H01L 24/00 and H01L 2224/00"
   ]
  },
  {
   "cell_type": "code",
   "execution_count": 58,
   "metadata": {
    "collapsed": false,
    "scrolled": true
   },
   "outputs": [
    {
     "data": {
      "text/plain": [
       "0           F24C   1\n",
       "1           A61M   1\n",
       "2           F04B  53\n",
       "3           H04M   1\n",
       "4           A63B  21\n",
       "5           A63B  21\n",
       "6           B27M   3\n",
       "7           E21B  17\n",
       "8           E21B  43\n",
       "9           B63C   7\n",
       "10          D01H   7\n",
       "11          D01H   7\n",
       "12          D07B   3\n",
       "13          A61F   2\n",
       "14          A61F   2\n",
       "15          A61F   2\n",
       "16          Y10T  29\n",
       "17          Y10T  29\n",
       "18          Y10T  29\n",
       "19          B68B   3\n",
       "20          B68B   3\n",
       "21          B22C   9\n",
       "22          B41B   9\n",
       "23          C08K   3\n",
       "24          C08K   5\n",
       "25          C09D   7\n",
       "26          C09D   7\n",
       "27          C09D 189\n",
       "28          D06M  15\n",
       "29          A01B   1\n",
       "              ...   \n",
       "15150391    A61H  15\n",
       "15150392    A61L   9\n",
       "15150393    A45D   8\n",
       "15150394    A61H  19\n",
       "15150395    A45D  24\n",
       "15150396    A45D  44\n",
       "15150397    A45D  44\n",
       "15150398    A61H  19\n",
       "15150399    A45D   8\n",
       "15150400    A61H  15\n",
       "15150401    A61H  23\n",
       "15150402    A45D  24\n",
       "15150403    G06F   3\n",
       "15150404    G06F   3\n",
       "15150405    G06F   3\n",
       "15150406    G06F   3\n",
       "15150407    G06F   3\n",
       "15150408    G06F   3\n",
       "15150409    G06F   3\n",
       "15150410    G06F   3\n",
       "15150411    A61H   7\n",
       "15150412    A61H   7\n",
       "15150413    A61H  99\n",
       "15150414    A61H2201\n",
       "15150415    A61H2201\n",
       "15150416    A45D  24\n",
       "15150417    E03C   1\n",
       "15150418    E03C   1\n",
       "15150419    A44C   5\n",
       "15150420    A01H   5\n",
       "Name: cpc_class_symbol, dtype: object"
      ]
     },
     "execution_count": 58,
     "metadata": {},
     "output_type": "execute_result"
    }
   ],
   "source": [
    "s_US_cd_len = USdf.cpc_class_symbol\n",
    "s_US_cd_len.map(lambda x: x.split('/')[0])"
   ]
  },
  {
   "cell_type": "code",
   "execution_count": 59,
   "metadata": {
    "collapsed": false
   },
   "outputs": [
    {
     "data": {
      "text/plain": [
       "count    15150421\n",
       "mean            8\n",
       "std             0\n",
       "min             8\n",
       "25%             8\n",
       "50%             8\n",
       "75%             8\n",
       "max             8\n",
       "Name: cpc_class_symbol, dtype: float64"
      ]
     },
     "execution_count": 59,
     "metadata": {},
     "output_type": "execute_result"
    }
   ],
   "source": [
    "# showing that even in CPC, spliting on '/' leaves codes of all same length -  good regarding matching\n",
    "USdf.cpc_class_symbol.map(lambda x: x.split('/')[0]).map(len).describe()"
   ]
  },
  {
   "cell_type": "code",
   "execution_count": 75,
   "metadata": {
    "collapsed": false,
    "scrolled": true
   },
   "outputs": [
    {
     "data": {
      "text/plain": [
       "50           A61F2002/7862\n",
       "57           A61F2002/7862\n",
       "74           A61F2002/5073\n",
       "84             C04B2235/32\n",
       "85           C04B2235/3409\n",
       "86           C04B2235/3817\n",
       "87           C04B2235/3821\n",
       "88            C04B2235/421\n",
       "89            C04B2235/424\n",
       "90            C04B2235/425\n",
       "91            C04B2235/528\n",
       "92           C04B2235/5427\n",
       "96             A41D2400/38\n",
       "107          A61F2002/5072\n",
       "133          A61F2002/5072\n",
       "145          A61F2002/5072\n",
       "155          A61F2002/5072\n",
       "164          A61F2002/6621\n",
       "171           F17C2201/052\n",
       "192          A61F2002/5072\n",
       "199            E01D2101/22\n",
       "200            E01D2101/24\n",
       "201           E01D2101/268\n",
       "210          A61F2002/5009\n",
       "211           A61F2002/502\n",
       "253           B26F2001/365\n",
       "257          A61F2002/5072\n",
       "271          A61F2002/5072\n",
       "273          A61F2002/5007\n",
       "285          F16H2007/0806\n",
       "                 ...      \n",
       "15150171      F21Y2111/007\n",
       "15150189      A45C2011/002\n",
       "15150204      F23J2213/202\n",
       "15150205       F23J2213/50\n",
       "15150224       F21Y2101/02\n",
       "15150225      F21Y2105/001\n",
       "15150227      A45C2013/267\n",
       "15150236      B65D2575/368\n",
       "15150237      B65D2575/565\n",
       "15150238      A46B2200/207\n",
       "15150260     A61B2019/5437\n",
       "15150277       B32B2266/06\n",
       "15150278      B32B2305/022\n",
       "15150279      B32B2307/584\n",
       "15150280      B32B2307/744\n",
       "15150281       B32B2319/00\n",
       "15150282      B32B2605/003\n",
       "15150287     B29B2911/1402\n",
       "15150288    B29B2911/14026\n",
       "15150289    B29B2911/14033\n",
       "15150290     B29B2911/1404\n",
       "15150291    B29B2911/14106\n",
       "15150292    B29B2911/14133\n",
       "15150296     B29C2049/4828\n",
       "15150321       A44D2203/00\n",
       "15150323      A45D2008/006\n",
       "15150337      B62M2009/007\n",
       "15150373    A63F2003/00164\n",
       "15150414     A61H2201/0153\n",
       "15150415     A61H2201/1253\n",
       "Name: cpc_class_symbol, dtype: object"
      ]
     },
     "execution_count": 75,
     "metadata": {},
     "output_type": "execute_result"
    }
   ],
   "source": [
    "# showing using lack of white space ' ' can filter out CPC only codes\n",
    "s_cpc_only = USdf.cpc_class_symbol[~USdf.cpc_class_symbol.str.contains(' ')]; s_cpc_only"
   ]
  },
  {
   "cell_type": "code",
   "execution_count": 79,
   "metadata": {
    "collapsed": false
   },
   "outputs": [
    {
     "data": {
      "text/plain": [
       "0.16020927735275475"
      ]
     },
     "execution_count": 79,
     "metadata": {},
     "output_type": "execute_result"
    }
   ],
   "source": [
    "# fraction of codes that are CPC only in US CPC\n",
    "2427238/float(15150421)"
   ]
  },
  {
   "cell_type": "code",
   "execution_count": 81,
   "metadata": {
    "collapsed": false
   },
   "outputs": [
    {
     "data": {
      "text/plain": [
       "0.03999477861443857"
      ]
     },
     "execution_count": 81,
     "metadata": {},
     "output_type": "execute_result"
    }
   ],
   "source": [
    "# WRONG, this using CPC codes for ALL US, but we have IPC for most\n",
    "# fraction of codes that are CPC only in all set \n",
    "2427238/float(15150421+45538451)"
   ]
  },
  {
   "cell_type": "code",
   "execution_count": 82,
   "metadata": {
    "collapsed": false
   },
   "outputs": [
    {
     "data": {
      "text/plain": [
       "0.24964084025157035"
      ]
     },
     "execution_count": 82,
     "metadata": {},
     "output_type": "execute_result"
    }
   ],
   "source": [
    "# WRONG, this is CPC codes for ALL US, but we have IPC for most\n",
    "#fraction of codes that will come just from US CPC\n",
    "15150421/float(15150421+45538451)\n",
    "# THAT\"S ALOT"
   ]
  },
  {
   "cell_type": "markdown",
   "metadata": {},
   "source": [
    "### Want to check if can replace middle of these 'CPC only' codes with white space and get cpc codes"
   ]
  },
  {
   "cell_type": "markdown",
   "metadata": {},
   "source": [
    "Think this should be possible as they all follow this format:\n",
    "A01D  23/00\n",
    "A01D  23/02 \n",
    "A01D2023/022\n",
    "A01D2023/024 \n",
    "A01D2023/026 \n",
    "A01D2023/028 \n",
    "A01D  23/04\n",
    "A01D  23/06\n",
    "\n",
    "But examples like\n",
    "A01D2000/028 are counter exampls, there isn't any groups that are 00 i.e not exist A01D  00/028"
   ]
  },
  {
   "cell_type": "code",
   "execution_count": 62,
   "metadata": {
    "collapsed": true
   },
   "outputs": [],
   "source": [
    "tot_file = '../Data_Play/all_grant_only_prior_v1.csv'"
   ]
  },
  {
   "cell_type": "code",
   "execution_count": 63,
   "metadata": {
    "collapsed": false
   },
   "outputs": [],
   "source": [
    "df = pd.read_csv(tot_file, engine='c', dtype={'publn_nr':str,'appln_id':str})\n",
    "#dont need ID's"
   ]
  },
  {
   "cell_type": "code",
   "execution_count": 64,
   "metadata": {
    "collapsed": false
   },
   "outputs": [
    {
     "name": "stdout",
     "output_type": "stream",
     "text": [
      "  publn_nr appln_auth  publn_date  appln_id ipc_class_symbol\n",
      "0  PP19626         US  2009-01-20  55754593      A01H   5/00\n",
      "1  PP19627         US  2009-01-20  52899962      A01H   5/00\n",
      "2  PP19628         US  2009-01-20  55754594      A01H   5/00\n",
      "3  PP19629         US  2009-01-20  55754595      A01H   5/00\n",
      "4  PP19630         US  2009-01-20  55318791      A01H   5/00\n"
     ]
    },
    {
     "data": {
      "text/plain": [
       "(45538451, 5)"
      ]
     },
     "execution_count": 64,
     "metadata": {},
     "output_type": "execute_result"
    }
   ],
   "source": [
    "print df.head()\n",
    "df.shape"
   ]
  },
  {
   "cell_type": "code",
   "execution_count": 74,
   "metadata": {
    "collapsed": false
   },
   "outputs": [
    {
     "data": {
      "text/html": [
       "<div>\n",
       "<table border=\"1\" class=\"dataframe\">\n",
       "  <thead>\n",
       "    <tr style=\"text-align: right;\">\n",
       "      <th></th>\n",
       "      <th>publn_nr</th>\n",
       "      <th>appln_auth</th>\n",
       "      <th>publn_date</th>\n",
       "      <th>appln_id</th>\n",
       "      <th>ipc_class_symbol</th>\n",
       "    </tr>\n",
       "  </thead>\n",
       "  <tbody>\n",
       "    <tr>\n",
       "      <th>645</th>\n",
       "      <td>7479062</td>\n",
       "      <td>US</td>\n",
       "      <td>2009-01-20</td>\n",
       "      <td>46780856</td>\n",
       "      <td>G06F</td>\n",
       "    </tr>\n",
       "    <tr>\n",
       "      <th>779</th>\n",
       "      <td>7479168</td>\n",
       "      <td>US</td>\n",
       "      <td>2009-01-20</td>\n",
       "      <td>49994785</td>\n",
       "      <td>C07C</td>\n",
       "    </tr>\n",
       "    <tr>\n",
       "      <th>782</th>\n",
       "      <td>7479168</td>\n",
       "      <td>US</td>\n",
       "      <td>2009-01-20</td>\n",
       "      <td>49994785</td>\n",
       "      <td>C10G</td>\n",
       "    </tr>\n",
       "    <tr>\n",
       "      <th>1497</th>\n",
       "      <td>7479686</td>\n",
       "      <td>US</td>\n",
       "      <td>2009-01-20</td>\n",
       "      <td>49344017</td>\n",
       "      <td>H01L</td>\n",
       "    </tr>\n",
       "    <tr>\n",
       "      <th>1941</th>\n",
       "      <td>7480056</td>\n",
       "      <td>US</td>\n",
       "      <td>2009-01-20</td>\n",
       "      <td>53869339</td>\n",
       "      <td>G02F</td>\n",
       "    </tr>\n",
       "  </tbody>\n",
       "</table>\n",
       "</div>"
      ],
      "text/plain": [
       "     publn_nr appln_auth  publn_date  appln_id ipc_class_symbol\n",
       "645   7479062         US  2009-01-20  46780856             G06F\n",
       "779   7479168         US  2009-01-20  49994785             C07C\n",
       "782   7479168         US  2009-01-20  49994785             C10G\n",
       "1497  7479686         US  2009-01-20  49344017             H01L\n",
       "1941  7480056         US  2009-01-20  53869339             G02F"
      ]
     },
     "execution_count": 74,
     "metadata": {},
     "output_type": "execute_result"
    }
   ],
   "source": [
    "df[~df.ipc_class_symbol.str.contains(' ')].head()\n",
    "# seems to imply no A01B1001/00 codes in IPC\n",
    "# further check below"
   ]
  },
  {
   "cell_type": "code",
   "execution_count": 70,
   "metadata": {
    "collapsed": false
   },
   "outputs": [
    {
     "data": {
      "text/plain": [
       "0.009429306236173909"
      ]
     },
     "execution_count": 70,
     "metadata": {},
     "output_type": "execute_result"
    }
   ],
   "source": [
    "# fraction of codes that are only at subclass level\n",
    "429396/float(45538451)\n",
    "# good"
   ]
  },
  {
   "cell_type": "code",
   "execution_count": 71,
   "metadata": {
    "collapsed": false
   },
   "outputs": [
    {
     "data": {
      "text/plain": [
       "4    429396\n",
       "Name: ipc_class_symbol, dtype: int64"
      ]
     },
     "execution_count": 71,
     "metadata": {},
     "output_type": "execute_result"
    }
   ],
   "source": [
    "df.ipc_class_symbol[~df.ipc_class_symbol.str.contains(' ')].map(len).value_counts()\n",
    "# good"
   ]
  }
 ],
 "metadata": {
  "kernelspec": {
   "display_name": "Python 2",
   "language": "python",
   "name": "python2"
  },
  "language_info": {
   "codemirror_mode": {
    "name": "ipython",
    "version": 2
   },
   "file_extension": ".py",
   "mimetype": "text/x-python",
   "name": "python",
   "nbconvert_exporter": "python",
   "pygments_lexer": "ipython2",
   "version": "2.7.11"
  }
 },
 "nbformat": 4,
 "nbformat_minor": 0
}
