{
 "cells": [
  {
   "cell_type": "code",
   "execution_count": null,
   "metadata": {
    "collapsed": false
   },
   "outputs": [],
   "source": [
    "%matplotlib inline\n",
    "import matplotlib.pyplot as plt\n",
    "plt.style.use('ggplot')\n",
    "import cPickle as pk\n",
    "import pandas as pd"
   ]
  },
  {
   "cell_type": "markdown",
   "metadata": {},
   "source": [
    "# Munging US CPC to IPC into data Checking Compatibility"
   ]
  },
  {
   "cell_type": "markdown",
   "metadata": {},
   "source": [
    "## SQL Query used on PATSTAT 2015 Spring"
   ]
  },
  {
   "cell_type": "raw",
   "metadata": {},
   "source": [
    "=== All Granted Only Priorities IPC .v1 === \n",
    "\n",
    "SELECT tls211_pat_publn.publn_nr, tls201_appln.appln_auth, tls211_pat_publn.publn_date, tls201_appln.appln_id, tls209_appln_ipc.ipc_class_symbol\n",
    "FROM tls201_appln\n",
    "INNER JOIN tls211_pat_publn ON tls211_pat_publn.appln_id = tls201_appln.appln_id\n",
    "INNER JOIN tls209_appln_ipc ON tls209_appln_ipc.appln_id = tls201_appln.appln_id\n",
    "WHERE tls201_appln.appln_id NOT IN \n",
    "\t(\n",
    "    SELECT appln_id\n",
    "    FROM tls204_appln_prior\n",
    "    )\n",
    "AND tls211_pat_publn.publn_first_grant = 1\n",
    "\n",
    "\n",
    "\n",
    "\n",
    "=== All Granted Only Priorities Only US CPC.v1===\n",
    "\n",
    "SELECT tls211_pat_publn.publn_nr, tls201_appln.appln_auth, tls211_pat_publn.publn_date, tls201_appln.appln_id, tls224_appln_cpc.cpc_class_symbol\n",
    "FROM tls201_appln\n",
    "INNER JOIN tls211_pat_publn ON tls211_pat_publn.appln_id = tls201_appln.appln_id\n",
    "INNER JOIN tls224_appln_cpc ON tls224_appln_cpc.appln_id = tls201_appln.appln_id\n",
    "WHERE tls201_appln.appln_id NOT IN \n",
    "\t(\n",
    "    SELECT appln_id\n",
    "    FROM tls204_appln_prior\n",
    "    )\n",
    "AND tls211_pat_publn.publn_first_grant = 1\n",
    "AND tls201_appln.appln_auth = 'US'"
   ]
  },
  {
   "cell_type": "markdown",
   "metadata": {},
   "source": [
    "## Importing\n",
    "[to top](#Table-of-Contents) "
   ]
  },
  {
   "cell_type": "code",
   "execution_count": null,
   "metadata": {
    "collapsed": false
   },
   "outputs": [],
   "source": [
    "pwd"
   ]
  },
  {
   "cell_type": "markdown",
   "metadata": {},
   "source": [
    "# CPC"
   ]
  },
  {
   "cell_type": "code",
   "execution_count": null,
   "metadata": {
    "collapsed": true
   },
   "outputs": [],
   "source": [
    "f_all_grants = '../Data_Play/all_grant_only_prior_US_cpc_v1.csv'"
   ]
  },
  {
   "cell_type": "code",
   "execution_count": null,
   "metadata": {
    "collapsed": false
   },
   "outputs": [],
   "source": [
    "USdf = pd.read_csv(f_all_grants, engine='c', dtype={'publn_nr':str,'appln_id':str})\n",
    "#dont need ID's"
   ]
  },
  {
   "cell_type": "markdown",
   "metadata": {},
   "source": [
    "# IPC"
   ]
  },
  {
   "cell_type": "code",
   "execution_count": null,
   "metadata": {
    "collapsed": true
   },
   "outputs": [],
   "source": [
    "tot_file = '../Data_Play/all_grant_only_prior_v1.csv'"
   ]
  },
  {
   "cell_type": "code",
   "execution_count": null,
   "metadata": {
    "collapsed": false
   },
   "outputs": [],
   "source": [
    "df = pd.read_csv(tot_file, engine='c', dtype={'publn_nr':str,'appln_id':str})\n",
    "#dont need ID's"
   ]
  },
  {
   "cell_type": "code",
   "execution_count": null,
   "metadata": {
    "collapsed": false,
    "scrolled": true
   },
   "outputs": [],
   "source": [
    "USdf_needed = USdf[~USdf.appln_id.isin(df.appln_id)]; USdf_needed.head()"
   ]
  },
  {
   "cell_type": "code",
   "execution_count": null,
   "metadata": {
    "collapsed": false
   },
   "outputs": [],
   "source": [
    "print len(USdf_needed.appln_id.value_counts())\n",
    "# num of extra patents getting form CPC"
   ]
  },
  {
   "cell_type": "code",
   "execution_count": null,
   "metadata": {
    "collapsed": false
   },
   "outputs": [],
   "source": [
    "print USdf_needed.cpc_class_symbol[~USdf_needed.cpc_class_symbol.str.contains(' ')].map(len).value_counts()\n",
    "print USdf_needed.cpc_class_symbol.map(len).value_counts() \n",
    "# CPC classifcaitons always to group level or beyond!!"
   ]
  },
  {
   "cell_type": "markdown",
   "metadata": {},
   "source": [
    "#### Plan B (checking): \n",
    "- Rip id's from each df\n",
    "- Drop duplicates from these serieses\n",
    "- remove the IPC ids from the CPC list\n",
    "- use this list to rip only the need appln id codes from USdf\n",
    "- concate this onto df"
   ]
  },
  {
   "cell_type": "raw",
   "metadata": {
    "collapsed": false,
    "scrolled": true
   },
   "source": [
    "US_ids = USdf.copy()\n",
    "US_ids = USdf.appln_id\n",
    "US_ids.drop_duplicates(inplace=True)\n",
    "print len(US_ids.value_counts())\n",
    "print len(US_ids)"
   ]
  },
  {
   "cell_type": "raw",
   "metadata": {},
   "source": [
    "df_ids = df.copy()\n",
    "df_ids = df.appln_id\n",
    "df_ids.drop_duplicates(inplace=True)\n",
    "print len(df_ids.value_counts())\n",
    "print len(df_ids)"
   ]
  },
  {
   "cell_type": "raw",
   "metadata": {},
   "source": [
    "US_needed = ~US_ids.isin(df_ids)\n",
    "print US_needed.head()\n",
    "print US_needed.sum()\n",
    "# matches with above"
   ]
  },
  {
   "cell_type": "markdown",
   "metadata": {},
   "source": [
    "# Checking compatibility"
   ]
  },
  {
   "cell_type": "code",
   "execution_count": null,
   "metadata": {
    "collapsed": true
   },
   "outputs": [],
   "source": [
    "# make messy copies\n",
    "df_c = df.copy()\n",
    "USdf_n_c = USdf_needed.copy()"
   ]
  },
  {
   "cell_type": "code",
   "execution_count": null,
   "metadata": {
    "collapsed": false
   },
   "outputs": [],
   "source": [
    "# truncate on '/'\n",
    "df_c.ipc_class_symbol = df_c.ipc_class_symbol.map(lambda x: x.split('/')[0])\n",
    "USdf_n_c.cpc_class_symbol = USdf_n_c.cpc_class_symbol.map(lambda x: x.split('/')[0])\n",
    "print df_c.head()\n",
    "print USdf_n_c.head()\n",
    "print '\\n'\n",
    "print df_c.ipc_class_symbol.map(len).value_counts()\n",
    "print USdf_n_c.cpc_class_symbol.map(len).value_counts()"
   ]
  },
  {
   "cell_type": "code",
   "execution_count": null,
   "metadata": {
    "collapsed": false
   },
   "outputs": [],
   "source": [
    "# df_c into frame of only groups and only subclasses by filtering on ipc contain whitespace\n",
    "df_ipc_prime = df_c[df_c.ipc_class_symbol.str.contains(' ')]\n",
    "print df_ipc_prime\n",
    "df_ipc_4 = df_c[~df_c.ipc_class_symbol.str.contains(' ')]\n",
    "print df_ipc_4\n",
    "print '\\n'\n",
    "print df_ipc_prime.ipc_class_symbol.map(len).value_counts()\n",
    "print df_ipc_4.ipc_class_symbol.map(len).value_counts()\n",
    "# checks all good"
   ]
  },
  {
   "cell_type": "code",
   "execution_count": null,
   "metadata": {
    "collapsed": false
   },
   "outputs": [],
   "source": [
    "c = 0\n",
    "for code in df_ipc_prime.ipc_class_symbol:\n",
    "    if code[5] != ' ':\n",
    "        c = c+1\n",
    "print c"
   ]
  },
  {
   "cell_type": "code",
   "execution_count": null,
   "metadata": {
    "collapsed": false
   },
   "outputs": [],
   "source": [
    "# Split CPCs into munged need and not\n",
    "USdf_cpc_spaces = USdf_n_c[USdf_n_c.cpc_class_symbol.str.contains(' ')]\n",
    "print USdf_cpc_spaces.head()\n",
    "print len(USdf_cpc_spaces)\n",
    "print '\\n'\n",
    "USdf_cpc_only = USdf_n_c[~USdf_n_c.cpc_class_symbol.str.contains(' ')]\n",
    "print USdf_cpc_only.head()\n",
    "print len(USdf_cpc_only)"
   ]
  },
  {
   "cell_type": "code",
   "execution_count": null,
   "metadata": {
    "collapsed": false
   },
   "outputs": [],
   "source": [
    "# Check the not mungeneed all exist in ipc, should get no results if all matching\n",
    "USdf_cpc_spaces_no_match = USdf_cpc_spaces[~USdf_cpc_spaces.cpc_class_symbol.isin(df_ipc_prime.ipc_class_symbol)]\n",
    "USdf_cpc_spaces_with_match = USdf_cpc_spaces[USdf_cpc_spaces.cpc_class_symbol.isin(df_ipc_prime.ipc_class_symbol)]\n",
    "print len(USdf_cpc_spaces_no_match)\n",
    "print '\\n'\n",
    "#print USdf_cpc_spaces_no_match.cpc_class_symbol.drop_duplicates()\n",
    "\n",
    "print len(USdf_cpc_spaces_with_match)"
   ]
  },
  {
   "cell_type": "code",
   "execution_count": null,
   "metadata": {
    "collapsed": true
   },
   "outputs": [],
   "source": [
    "# make function to munge the CPC only in ipc\n",
    "def try_cpc_to_ipc(code):\n",
    "    code = code[:4] + '  ' + code[6:]\n",
    "    if code[6] == '0':\n",
    "        code = code[:6] + ' ' + code[7:]\n",
    "    return code"
   ]
  },
  {
   "cell_type": "markdown",
   "metadata": {},
   "source": [
    "## Cannot be reliably munged\n",
    "See CPC guide page 8 for examples of ambiguous codes"
   ]
  },
  {
   "cell_type": "markdown",
   "metadata": {},
   "source": [
    "## CPC to IPC as far is it could go\n",
    "## Now make final data sets"
   ]
  },
  {
   "cell_type": "code",
   "execution_count": null,
   "metadata": {
    "collapsed": false
   },
   "outputs": [],
   "source": [
    "US_extra_fin =  USdf_cpc_spaces_with_match.copy()\n",
    "US_extra_fin.rename(columns={'cpc_class_symbol':'ipc_class_symbol'}, inplace=True)\n",
    "US_extra_fin"
   ]
  },
  {
   "cell_type": "code",
   "execution_count": null,
   "metadata": {
    "collapsed": false
   },
   "outputs": [],
   "source": [
    "# append the prime IPC with the prime US, making final data set for usage\n",
    "df_final_still_EP = df_ipc_prime.append(US_extra_fin, ignore_index=True)\n",
    "print df_final_still_EP\n",
    "print len(US_extra_fin)+len(df_ipc_prime)"
   ]
  },
  {
   "cell_type": "code",
   "execution_count": null,
   "metadata": {
    "collapsed": false,
    "scrolled": true
   },
   "outputs": [],
   "source": [
    "# 46530055"
   ]
  },
  {
   "cell_type": "code",
   "execution_count": null,
   "metadata": {
    "collapsed": false
   },
   "outputs": [],
   "source": [
    "df_final_still_EP"
   ]
  },
  {
   "cell_type": "code",
   "execution_count": null,
   "metadata": {
    "collapsed": false
   },
   "outputs": [],
   "source": [
    "#pk.dump(df_final_still_EP, open('pickles_and_munged_csv/final_data_still_EP_v1.pk', 'wb'))"
   ]
  },
  {
   "cell_type": "markdown",
   "metadata": {},
   "source": [
    "## Now look at fraction of patents that have a missing code per auth per year"
   ]
  },
  {
   "cell_type": "code",
   "execution_count": null,
   "metadata": {
    "collapsed": false
   },
   "outputs": [],
   "source": [
    "# Make set for no filter on code consistency\n",
    "full_no_filter_df = df.append(USdf_needed.rename(columns={'cpc_class_symbol':'ipc_class_symbol'}, inplace=True),\n",
    "                              ignore_index=True)"
   ]
  },
  {
   "cell_type": "code",
   "execution_count": null,
   "metadata": {
    "collapsed": true
   },
   "outputs": [],
   "source": [
    "who "
   ]
  },
  {
   "cell_type": "code",
   "execution_count": null,
   "metadata": {
    "collapsed": true
   },
   "outputs": [],
   "source": [
    "# Make set of rejected codes\n",
    "reject_codes = df_ipc_4.append([USdf_cpc_only.rename(columns={'cpc_class_symbol':'ipc_class_symbol'}, inplace=True),\n",
    "                               USdf_cpc_spaces_no_match.rename(columns={'cpc_class_symbol':'ipc_class_symbol'}, inplace=True)],\n",
    "                              ignore_index=True)"
   ]
  },
  {
   "cell_type": "code",
   "execution_count": null,
   "metadata": {
    "collapsed": false
   },
   "outputs": [],
   "source": [
    "who"
   ]
  },
  {
   "cell_type": "code",
   "execution_count": null,
   "metadata": {
    "collapsed": false
   },
   "outputs": [],
   "source": [
    "print len(df_final_still_EP)\n",
    "print len(full_no_filter_df)\n",
    "print len(reject_codes)"
   ]
  },
  {
   "cell_type": "code",
   "execution_count": null,
   "metadata": {
    "collapsed": true
   },
   "outputs": [],
   "source": []
  }
 ],
 "metadata": {
  "kernelspec": {
   "display_name": "Python 2",
   "language": "python",
   "name": "python2"
  },
  "language_info": {
   "codemirror_mode": {
    "name": "ipython",
    "version": 2
   },
   "file_extension": ".py",
   "mimetype": "text/x-python",
   "name": "python",
   "nbconvert_exporter": "python",
   "pygments_lexer": "ipython2",
   "version": "2.7.11"
  }
 },
 "nbformat": 4,
 "nbformat_minor": 0
}
