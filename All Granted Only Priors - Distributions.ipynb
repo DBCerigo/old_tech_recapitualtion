{
 "cells": [
  {
   "cell_type": "code",
   "execution_count": null,
   "metadata": {
    "collapsed": false
   },
   "outputs": [],
   "source": [
    "%matplotlib inline\n",
    "import matplotlib.pyplot as plt\n",
    "plt.style.use('ggplot')\n",
    "import cPickle as pk\n",
    "import pandas as pd\n",
    "import numpy as np"
   ]
  },
  {
   "cell_type": "markdown",
   "metadata": {},
   "source": [
    "# PATSTAT Data Checks"
   ]
  },
  {
   "cell_type": "markdown",
   "metadata": {},
   "source": [
    "# Table of Contents\n",
    "* [Preliminary Data Munge](#Prelim-Data-Munge)\n",
    "* [Importing Data](#Importing)\n",
    "* [Distribution of Patents in Time by Publication Year](#Distribution-of-Patents-by-Pub-Yr)\n",
    "* [By Publication Year (Split-apply-combine)](#Split-apply-combine-On-Publication-Year)\n",
    "    * [Distribution Of Patents In Time by Pub Year](#Distribution-in-Time-by-Pub-Check/Practice)\n",
    "    * [Checking Application Dates](#Checking-Application-Dates)\n",
    "    * [Checking Classfications](#Checking-Classfications)\n",
    "* [By Authory-Publication Year (Split-apply-combine)](#Split-apply-combine-On-Authority-And-Publication-Year)\n",
    "    * [Distribution of Patents In Time by Authority-Pub Year](#Quick–number-of-patents-authority-pub-year)\n",
    "    * [Checking Application Dates](#Checking-Application-Dates-By-Auth-Year)\n",
    "    * [Checking IPC Classfications](#Checking-IPC-Classfications-By-Auth)\n",
    "    * [Checking CPC Classfications](#Checking-CPC-Classfications-By-Auth)"
   ]
  },
  {
   "cell_type": "markdown",
   "metadata": {},
   "source": [
    "## Prelim Data Munge\n",
    "[to top](#Table-of-Contents) "
   ]
  },
  {
   "cell_type": "code",
   "execution_count": null,
   "metadata": {
    "collapsed": false
   },
   "outputs": [],
   "source": [
    "# Take date col. with format 'yyyy-mm-dd' and return that col as int(yyyy)\n",
    "def d_to_y(col):\n",
    "    return col.map(lambda x:int(x[:4]))"
   ]
  },
  {
   "cell_type": "code",
   "execution_count": null,
   "metadata": {
    "collapsed": true
   },
   "outputs": [],
   "source": [
    "#Date to years function - works on application date and publication date in one\n",
    "def date_to_year(df):\n",
    "    if 'appln_filing_date' in df.columns:\n",
    "        df.appln_filing_date = df.appln_filing_date.map(lambda x:int(x[:4]))\n",
    "        df.rename(columns={'appln_filing_date':'app_year'}, inplace=True)\n",
    "    if 'publn_date'in df.columns:\n",
    "        df.publn_date = df.publn_date.map(lambda x:int(x[:4]))\n",
    "        df.rename(columns={'publn_date':'pub_year'}, inplace=True)\n",
    "    return"
   ]
  },
  {
   "cell_type": "code",
   "execution_count": null,
   "metadata": {
    "collapsed": false
   },
   "outputs": [],
   "source": [
    "# Date to binary is missing or now\n",
    "def date_to_binary(df, d_col, new_col_name):\n",
    "    if d_col in df.columns:\n",
    "        df[d_col] = df[d_col].map( lambda x: 0 if x == 9999 else 1 )\n",
    "        df.rename(columns={d_col:new_col_name}, inplace=True)\n",
    "    else: \n",
    "        return 'd_col not a column'"
   ]
  },
  {
   "cell_type": "markdown",
   "metadata": {},
   "source": [
    "## SQL Query used on PATSTAT 2015 Spring"
   ]
  },
  {
   "cell_type": "raw",
   "metadata": {},
   "source": [
    "SELECT tls211_pat_publn.publn_nr, tls201_appln.appln_auth, tls211_pat_publn.publn_date,\n",
    "       tls201_appln.appln_filing_date, tls201_appln.appln_id,\n",
    "\n",
    "(CASE \n",
    "\tWHEN EXISTS (SELECT 1\n",
    "        \t\t\t\t\t\t\tFROM tls209_appln_ipc\n",
    "                                    WHERE tls209_appln_ipc.appln_id = tls201_appln.appln_id) \n",
    "                             THEN 1\n",
    "                             ELSE 0\n",
    "                   END) \n",
    "               AS has_ipc,\n",
    "(CASE \n",
    "\tWHEN EXISTS (SELECT 1\n",
    "        \t\t\t\t\t\t\tFROM tls224_appln_cpc\n",
    "                                    WHERE tls224_appln_cpc.appln_id = tls201_appln.appln_id) \n",
    "                             THEN 1\n",
    "                             ELSE 0\n",
    "                   END) \n",
    "             AS has_cpc\n",
    "\n",
    "FROM tls201_appln\n",
    "INNER JOIN tls211_pat_publn ON tls211_pat_publn.appln_id = tls201_appln.appln_id\n",
    "WHERE tls201_appln.appln_id NOT IN \n",
    "\t(\n",
    "    SELECT appln_id\n",
    "    FROM tls204_appln_prior\n",
    "    )\n",
    "AND tls211_pat_publn.publn_first_grant = 1"
   ]
  },
  {
   "cell_type": "markdown",
   "metadata": {},
   "source": [
    "## Importing\n",
    "[to top](#Table-of-Contents) "
   ]
  },
  {
   "cell_type": "code",
   "execution_count": null,
   "metadata": {
    "collapsed": false
   },
   "outputs": [],
   "source": [
    "pwd"
   ]
  },
  {
   "cell_type": "code",
   "execution_count": null,
   "metadata": {
    "collapsed": true
   },
   "outputs": [],
   "source": [
    "f_all_grants = '/Users/innovation-sfi/Dropbox/Research/Innovation/EPO/Data_processing/Data_Play/all_grant_only_prior_flags_v1.csv'"
   ]
  },
  {
   "cell_type": "code",
   "execution_count": null,
   "metadata": {
    "collapsed": false
   },
   "outputs": [],
   "source": [
    "df = pd.read_csv(f_all_grants, engine='c', usecols=[1,2,3,5,6]); df.head()\n",
    "#dont need ID's"
   ]
  },
  {
   "cell_type": "code",
   "execution_count": null,
   "metadata": {
    "collapsed": false
   },
   "outputs": [],
   "source": [
    "# munge dates to years\n",
    "date_to_year(df); df.head()"
   ]
  },
  {
   "cell_type": "code",
   "execution_count": null,
   "metadata": {
    "collapsed": false
   },
   "outputs": [],
   "source": [
    "# munge application to year to binary if date is missing (app_year == 9999)\n",
    "date_to_binary(df, 'app_year', 'has_app_date'); df.head()"
   ]
  },
  {
   "cell_type": "code",
   "execution_count": null,
   "metadata": {
    "collapsed": false
   },
   "outputs": [],
   "source": [
    "df[df['appln_auth'] == 'EP'].sort_values(by='pub_year', ascending=True).head()"
   ]
  },
  {
   "cell_type": "code",
   "execution_count": null,
   "metadata": {
    "collapsed": false
   },
   "outputs": [],
   "source": [
    "df_pre_ep = df[df['pub_year'] < 1980]; df_pre_ep.head()"
   ]
  },
  {
   "cell_type": "code",
   "execution_count": null,
   "metadata": {
    "collapsed": false
   },
   "outputs": [],
   "source": [
    "# Find top 6 countries by number of patents, and get list of those autheorties for later\n",
    "auth_grp = df.groupby('appln_auth')\n",
    "auth_num = len(auth_grp)\n",
    "auth_sizes = auth_grp.size()\n",
    "auth_sizes.sort_values(ascending=False, inplace=True)\n",
    "print auth_sizes.head()\n",
    "auth_by_size = auth_sizes.index.values\n",
    "print auth_by_size"
   ]
  },
  {
   "cell_type": "code",
   "execution_count": null,
   "metadata": {
    "collapsed": false
   },
   "outputs": [],
   "source": [
    "# PRE EP Find top 6 countries by number of patents, and get list of those autheorties for later\n",
    "auth_grp_pre_ep = df_pre_ep.groupby('appln_auth')\n",
    "auth_num_pre_ep = len(auth_grp_pre_ep)\n",
    "auth_sizes_pre_ep = auth_grp_pre_ep.size()\n",
    "auth_sizes_pre_ep.sort_values(ascending=False, inplace=True)\n",
    "print auth_sizes_pre_ep.head()\n",
    "auth_by_size_pre_ep = auth_sizes_pre_ep.index.values\n",
    "print auth_by_size_pre_ep"
   ]
  },
  {
   "cell_type": "code",
   "execution_count": null,
   "metadata": {
    "collapsed": false
   },
   "outputs": [],
   "source": [
    "list_1 = auth_sizes[0:31]\n",
    "N = len(list_1)\n",
    "fs = np.array(range(N))/float(N)\n",
    "xs = list_1.sort_values(ascending=False).values\n",
    "print xs[0]\n",
    "plt.plot(xs, fs)\n",
    "ax = plt.gca()\n",
    "#ax.set_yscale('log')\n",
    "ax.set_xscale('log')\n",
    "#plt.savefig('figures/all_grant_auth_dists_v1.pdf')"
   ]
  },
  {
   "cell_type": "code",
   "execution_count": null,
   "metadata": {
    "collapsed": false
   },
   "outputs": [],
   "source": [
    "N = len(auth_sizes)\n",
    "fs = np.array(range(N))\n",
    "xs = auth_sizes.sort_values(ascending=False).values\n",
    "print xs[0]\n",
    "plt.plot(fs, xs)\n",
    "ax = plt.gca()\n",
    "#ax.set_yscale('log')\n",
    "ax.set_xscale('log')\n",
    "#plt.savefig('figures/all_grant_auth_dists_v1.pdf')"
   ]
  },
  {
   "cell_type": "code",
   "execution_count": null,
   "metadata": {
    "collapsed": false
   },
   "outputs": [],
   "source": [
    "N = len(auth_sizes_pre_ep)\n",
    "fs = np.array(range(N))/float(N)\n",
    "xs = auth_sizes_pre_ep.sort_values(ascending=False).values\n",
    "plt.plot(xs, fs)\n",
    "ax = plt.gca()\n",
    "ax.set_yscale('log')\n",
    "ax.set_xscale('log')\n",
    "#plt.savefig('figures/all_grant_auth_dists_pre_ep_v1.pdf')"
   ]
  },
  {
   "cell_type": "code",
   "execution_count": null,
   "metadata": {
    "collapsed": false
   },
   "outputs": [],
   "source": [
    "# Get European authority codes\n",
    "with open('/Users/innovation-sfi/Desktop/eu_auths.txt') as f:\n",
    "    eu_auths = f.read().splitlines()\n",
    "# clean off those not contained in patstat\n",
    "eu_auths = [val for val in auth_by_size if val in eu_auths]\n",
    "# add 'EP' to the list\n",
    "eu_auths.insert(0,'EP')\n",
    "print eu_auths"
   ]
  },
  {
   "cell_type": "code",
   "execution_count": null,
   "metadata": {
    "collapsed": false
   },
   "outputs": [],
   "source": [
    "split = int((auth_sizes.EP/float(len(eu_auths)-1))); print split\n",
    "auth_sizes_split_ep = auth_sizes; #print auth_sizes_split_ep\n",
    "auth_sizes_split_ep = auth_sizes_split_ep[auth_sizes_split_ep.index != 'EP']; #print auth_sizes_split_ep\n",
    "print auth_sizes_split_ep.loc['FR']\n",
    "print auth_sizes_split_ep.loc['FR'] + split\n",
    "for eu in eu_auths:\n",
    "    if eu != 'EP':\n",
    "        auth_sizes_split_ep.loc[eu] = auth_sizes_split_ep.loc[eu] + split\n",
    "print auth_sizes_split_ep.head()"
   ]
  },
  {
   "cell_type": "code",
   "execution_count": null,
   "metadata": {
    "collapsed": false
   },
   "outputs": [],
   "source": [
    "N = len(auth_sizes_split_ep)\n",
    "fs = np.array(range(N))/float(N)\n",
    "xs = auth_sizes_split_ep.sort_values(ascending=False).values\n",
    "plt.plot(xs, fs)\n",
    "ax = plt.gca()\n",
    "ax.set_yscale('log')\n",
    "ax.set_xscale('log')\n",
    "#plt.savefig('figures/all_grant_auth_dists_eq_split_ep_v1.pdf')"
   ]
  }
 ],
 "metadata": {
  "kernelspec": {
   "display_name": "Python 2",
   "language": "python",
   "name": "python2"
  },
  "language_info": {
   "codemirror_mode": {
    "name": "ipython",
    "version": 2
   },
   "file_extension": ".py",
   "mimetype": "text/x-python",
   "name": "python",
   "nbconvert_exporter": "python",
   "pygments_lexer": "ipython2",
   "version": "2.7.11"
  }
 },
 "nbformat": 4,
 "nbformat_minor": 0
}
