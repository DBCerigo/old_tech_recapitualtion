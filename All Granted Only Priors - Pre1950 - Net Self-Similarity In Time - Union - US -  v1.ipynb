{
 "cells": [
  {
   "cell_type": "code",
   "execution_count": 1,
   "metadata": {
    "collapsed": false
   },
   "outputs": [],
   "source": [
    "%matplotlib inline\n",
    "import matplotlib.pyplot as plt\n",
    "plt.style.use('ggplot')\n",
    "from IPython.display import clear_output\n",
    "import seaborn as sns\n",
    "\n",
    "import cPickle as pk\n",
    "import pandas as pd\n",
    "import networkx as nx\n",
    "import scipy.sparse as sp\n",
    "import itertools as itls\n",
    "from itertools import combinations\n",
    "import numpy as np\n",
    "from math import sqrt\n",
    "\n",
    "import sys"
   ]
  },
  {
   "cell_type": "markdown",
   "metadata": {},
   "source": [
    "## Importing\n",
    "[to top](#Table-of-Contents) "
   ]
  },
  {
   "cell_type": "code",
   "execution_count": 2,
   "metadata": {
    "collapsed": false
   },
   "outputs": [
    {
     "data": {
      "text/plain": [
       "u'/Users/innovation-sfi/Dropbox/Research/Innovation/EPO/Data_processing/Python'"
      ]
     },
     "execution_count": 2,
     "metadata": {},
     "output_type": "execute_result"
    }
   ],
   "source": [
    "pwd"
   ]
  },
  {
   "cell_type": "code",
   "execution_count": 3,
   "metadata": {
    "collapsed": false,
    "scrolled": true
   },
   "outputs": [
    {
     "data": {
      "text/html": [
       "<div>\n",
       "<table border=\"1\" class=\"dataframe\">\n",
       "  <thead>\n",
       "    <tr style=\"text-align: right;\">\n",
       "      <th>appln_auth</th>\n",
       "      <th>AT</th>\n",
       "      <th>AU</th>\n",
       "      <th>BE</th>\n",
       "      <th>CA</th>\n",
       "      <th>CH</th>\n",
       "      <th>DE</th>\n",
       "      <th>DK</th>\n",
       "      <th>ES</th>\n",
       "      <th>FI</th>\n",
       "      <th>FR</th>\n",
       "      <th>...</th>\n",
       "      <th>IE</th>\n",
       "      <th>IS</th>\n",
       "      <th>IT</th>\n",
       "      <th>JP</th>\n",
       "      <th>LU</th>\n",
       "      <th>NL</th>\n",
       "      <th>NO</th>\n",
       "      <th>SE</th>\n",
       "      <th>SU</th>\n",
       "      <th>US</th>\n",
       "    </tr>\n",
       "    <tr>\n",
       "      <th>pub_year</th>\n",
       "      <th></th>\n",
       "      <th></th>\n",
       "      <th></th>\n",
       "      <th></th>\n",
       "      <th></th>\n",
       "      <th></th>\n",
       "      <th></th>\n",
       "      <th></th>\n",
       "      <th></th>\n",
       "      <th></th>\n",
       "      <th></th>\n",
       "      <th></th>\n",
       "      <th></th>\n",
       "      <th></th>\n",
       "      <th></th>\n",
       "      <th></th>\n",
       "      <th></th>\n",
       "      <th></th>\n",
       "      <th></th>\n",
       "      <th></th>\n",
       "      <th></th>\n",
       "    </tr>\n",
       "  </thead>\n",
       "  <tbody>\n",
       "    <tr>\n",
       "      <th>1836</th>\n",
       "      <td>[]</td>\n",
       "      <td>[]</td>\n",
       "      <td>[]</td>\n",
       "      <td>[]</td>\n",
       "      <td>[]</td>\n",
       "      <td>[]</td>\n",
       "      <td>[]</td>\n",
       "      <td>[]</td>\n",
       "      <td>[]</td>\n",
       "      <td>[]</td>\n",
       "      <td>...</td>\n",
       "      <td>[]</td>\n",
       "      <td>[]</td>\n",
       "      <td>[]</td>\n",
       "      <td>[]</td>\n",
       "      <td>[]</td>\n",
       "      <td>[]</td>\n",
       "      <td>[]</td>\n",
       "      <td>[]</td>\n",
       "      <td>[]</td>\n",
       "      <td>[[1513, 1789], [1268, 1855], [1762, 1821], [24...</td>\n",
       "    </tr>\n",
       "    <tr>\n",
       "      <th>1837</th>\n",
       "      <td>[]</td>\n",
       "      <td>[]</td>\n",
       "      <td>[]</td>\n",
       "      <td>[]</td>\n",
       "      <td>[]</td>\n",
       "      <td>[]</td>\n",
       "      <td>[]</td>\n",
       "      <td>[]</td>\n",
       "      <td>[]</td>\n",
       "      <td>[]</td>\n",
       "      <td>...</td>\n",
       "      <td>[]</td>\n",
       "      <td>[]</td>\n",
       "      <td>[]</td>\n",
       "      <td>[]</td>\n",
       "      <td>[]</td>\n",
       "      <td>[]</td>\n",
       "      <td>[]</td>\n",
       "      <td>[]</td>\n",
       "      <td>[]</td>\n",
       "      <td>[[5834, 5836], [4907, 5440], [799, 5648], [602...</td>\n",
       "    </tr>\n",
       "    <tr>\n",
       "      <th>1838</th>\n",
       "      <td>[]</td>\n",
       "      <td>[]</td>\n",
       "      <td>[]</td>\n",
       "      <td>[]</td>\n",
       "      <td>[]</td>\n",
       "      <td>[]</td>\n",
       "      <td>[]</td>\n",
       "      <td>[]</td>\n",
       "      <td>[]</td>\n",
       "      <td>[]</td>\n",
       "      <td>...</td>\n",
       "      <td>[]</td>\n",
       "      <td>[]</td>\n",
       "      <td>[]</td>\n",
       "      <td>[]</td>\n",
       "      <td>[]</td>\n",
       "      <td>[]</td>\n",
       "      <td>[]</td>\n",
       "      <td>[]</td>\n",
       "      <td>[]</td>\n",
       "      <td>[[1537, 1774], [1154, 1208], [2724, 2748], [40...</td>\n",
       "    </tr>\n",
       "    <tr>\n",
       "      <th>1839</th>\n",
       "      <td>[]</td>\n",
       "      <td>[]</td>\n",
       "      <td>[]</td>\n",
       "      <td>[]</td>\n",
       "      <td>[]</td>\n",
       "      <td>[]</td>\n",
       "      <td>[]</td>\n",
       "      <td>[]</td>\n",
       "      <td>[]</td>\n",
       "      <td>[]</td>\n",
       "      <td>...</td>\n",
       "      <td>[]</td>\n",
       "      <td>[]</td>\n",
       "      <td>[]</td>\n",
       "      <td>[]</td>\n",
       "      <td>[]</td>\n",
       "      <td>[]</td>\n",
       "      <td>[]</td>\n",
       "      <td>[]</td>\n",
       "      <td>[]</td>\n",
       "      <td>[[4212, 4231], [5078, 6180], [4915, 5001], [33...</td>\n",
       "    </tr>\n",
       "    <tr>\n",
       "      <th>1840</th>\n",
       "      <td>[]</td>\n",
       "      <td>[]</td>\n",
       "      <td>[]</td>\n",
       "      <td>[]</td>\n",
       "      <td>[]</td>\n",
       "      <td>[]</td>\n",
       "      <td>[]</td>\n",
       "      <td>[]</td>\n",
       "      <td>[]</td>\n",
       "      <td>[]</td>\n",
       "      <td>...</td>\n",
       "      <td>[]</td>\n",
       "      <td>[]</td>\n",
       "      <td>[]</td>\n",
       "      <td>[]</td>\n",
       "      <td>[]</td>\n",
       "      <td>[]</td>\n",
       "      <td>[]</td>\n",
       "      <td>[]</td>\n",
       "      <td>[]</td>\n",
       "      <td>[[2722, 2748], [1862, 1862], [1161, 5985], [48...</td>\n",
       "    </tr>\n",
       "  </tbody>\n",
       "</table>\n",
       "<p>5 rows × 22 columns</p>\n",
       "</div>"
      ],
      "text/plain": [
       "appln_auth  AT  AU  BE  CA  CH  DE  DK  ES  FI  FR  \\\n",
       "pub_year                                             \n",
       "1836        []  []  []  []  []  []  []  []  []  []   \n",
       "1837        []  []  []  []  []  []  []  []  []  []   \n",
       "1838        []  []  []  []  []  []  []  []  []  []   \n",
       "1839        []  []  []  []  []  []  []  []  []  []   \n",
       "1840        []  []  []  []  []  []  []  []  []  []   \n",
       "\n",
       "appln_auth                        ...                          IE  IS  IT  JP  \\\n",
       "pub_year                          ...                                           \n",
       "1836                              ...                          []  []  []  []   \n",
       "1837                              ...                          []  []  []  []   \n",
       "1838                              ...                          []  []  []  []   \n",
       "1839                              ...                          []  []  []  []   \n",
       "1840                              ...                          []  []  []  []   \n",
       "\n",
       "appln_auth  LU  NL  NO  SE  SU  \\\n",
       "pub_year                         \n",
       "1836        []  []  []  []  []   \n",
       "1837        []  []  []  []  []   \n",
       "1838        []  []  []  []  []   \n",
       "1839        []  []  []  []  []   \n",
       "1840        []  []  []  []  []   \n",
       "\n",
       "appln_auth                                                 US  \n",
       "pub_year                                                       \n",
       "1836        [[1513, 1789], [1268, 1855], [1762, 1821], [24...  \n",
       "1837        [[5834, 5836], [4907, 5440], [799, 5648], [602...  \n",
       "1838        [[1537, 1774], [1154, 1208], [2724, 2748], [40...  \n",
       "1839        [[4212, 4231], [5078, 6180], [4915, 5001], [33...  \n",
       "1840        [[2722, 2748], [1862, 1862], [1161, 5985], [48...  \n",
       "\n",
       "[5 rows x 22 columns]"
      ]
     },
     "execution_count": 3,
     "metadata": {},
     "output_type": "execute_result"
    }
   ],
   "source": [
    "df = pk.load(open('pickles_and_munged_csv/pre1950_cated_cumed_codes_as_ints_v1.pk', 'rb')); df.head()"
   ]
  },
  {
   "cell_type": "code",
   "execution_count": 4,
   "metadata": {
    "collapsed": false
   },
   "outputs": [],
   "source": [
    "s_US = df.US"
   ]
  },
  {
   "cell_type": "code",
   "execution_count": 5,
   "metadata": {
    "collapsed": true
   },
   "outputs": [],
   "source": [
    "del df"
   ]
  },
  {
   "cell_type": "code",
   "execution_count": 6,
   "metadata": {
    "collapsed": false,
    "scrolled": true
   },
   "outputs": [
    {
     "data": {
      "text/plain": [
       "pub_year\n",
       "1836    [[1513, 1789], [1268, 1855], [1762, 1821], [24...\n",
       "1837    [[5834, 5836], [4907, 5440], [799, 5648], [602...\n",
       "1838    [[1537, 1774], [1154, 1208], [2724, 2748], [40...\n",
       "1839    [[4212, 4231], [5078, 6180], [4915, 5001], [33...\n",
       "1840    [[2722, 2748], [1862, 1862], [1161, 5985], [48...\n",
       "1841    [[5986, 6001], [3027, 5586], [2964, 3002], [18...\n",
       "1842    [[4897, 5004], [5740, 5803], [5349, 5421], [11...\n",
       "1843    [[1762, 1821], [1762, 1821], [5704, 5807], [57...\n",
       "1844    [[3764, 3825], [1520, 1764], [4641, 4643], [11...\n",
       "1845    [[5318, 5404], [1060, 4759], [3969, 4052], [23...\n",
       "1846    [[4097, 6441], [5610, 6516], [1204, 1758], [17...\n",
       "1847    [[4097, 6441], [1816, 1817], [1722, 5438], [17...\n",
       "1848    [[335, 2889], [4315, 4750], [5471, 5479, 5479]...\n",
       "1849    [[5479, 5479], [1496, 1622], [1237, 5473], [50...\n",
       "1850    [[1754, 1764], [659, 813], [1513, 1789], [1848...\n",
       "1851    [[327, 332], [4810, 5731], [1829, 1853], [5740...\n",
       "1852    [[5687, 6199], [4898, 4929], [110, 1211], [489...\n",
       "1853    [[5338, 5907], [1622, 6508], [35, 64], [1776, ...\n",
       "1854    [[5004, 5907], [715, 1703], [4879, 4907], [280...\n",
       "1855    [[1754, 1764], [2104, 5723], [4057, 4057, 5723...\n",
       "1856    [[4414, 4697], [1722, 5438], [2219, 6715], [57...\n",
       "1857    [[5333, 5337], [5088, 5352], [799, 799, 799, 7...\n",
       "1858    [[1754, 4692], [103, 1274], [1721, 1740], [24,...\n",
       "1859    [[2437, 2551], [672, 5436], [1373, 1743], [296...\n",
       "1860    [[807, 1874], [1152, 1202], [757, 3024], [1247...\n",
       "1861    [[6544, 6902], [1030, 6600], [663, 2400], [212...\n",
       "1862    [[447, 4637], [5729, 5804], [70, 103], [1275, ...\n",
       "1863    [[5740, 5803], [1165, 3294], [5729, 5804], [79...\n",
       "1864    [[5729, 5804], [414, 577], [2431, 5555], [5729...\n",
       "1865    [[157, 1760], [148, 1754], [4962, 4994], [304,...\n",
       "                              ...                        \n",
       "1986    [[4278, 4299, 4299, 5016], [1175, 1175, 1175, ...\n",
       "1987    [[3721, 3722], [3766, 3767, 3767], [1488, 4355...\n",
       "1988    [[6575], [2441, 2441, 2441], [588, 590, 766, 1...\n",
       "1989    [[1893], [1142, 5794, 5796, 5814, 5815], [2801...\n",
       "1990    [[3080, 3080], [1847, 1851, 2021], [3298, 4005...\n",
       "1991    [[3422, 3426, 3495, 3496], [1172, 6279], [7023...\n",
       "1992    [[3642, 3642, 3743, 3826], [232, 853, 853, 853...\n",
       "1993    [[40, 6600, 7232], [1148, 1150, 3606, 4746, 47...\n",
       "1994    [[6094, 6119, 6122, 6127], [3082, 3208], [4179...\n",
       "1995    [[3412, 3412, 3425, 3430, 3431, 3451, 3455, 34...\n",
       "1996    [[2324, 3730, 3731, 3737], [3692, 3692, 3692, ...\n",
       "1997    [[3692, 3737], [2313, 2328, 2328, 2328, 2328, ...\n",
       "1998    [[2324, 3737], [3689, 3689, 3730, 3731, 3737],...\n",
       "1999    [[6412, 6415, 6415], [766, 766, 766, 766, 766,...\n",
       "2000    [[6574, 6574, 6578, 6579, 6579], [1173, 1179, ...\n",
       "2001    [[6350, 6350, 6350], [3294, 3297, 3302], [3289...\n",
       "2002    [[1449, 1854, 1858], [2877], [2137, 2141, 2141...\n",
       "2003    [[585, 586, 588, 2850, 2864], [1172, 1172], [6...\n",
       "2004    [[4849, 4851, 6156], [5119, 5646], [248], [360...\n",
       "2005    [[1655, 1655], [7018, 7020, 7208, 7218, 7220, ...\n",
       "2006    [[2331, 2331, 2332], [7352, 7359, 7359], [6987...\n",
       "2007    [[6579], [1488, 4278], [6984, 6984, 6984, 6984...\n",
       "2008    [[3701, 6857, 6885, 6891], [4023, 4032, 4032, ...\n",
       "2009    [[3579, 3579, 3579, 3579], [5109, 5111], [7256...\n",
       "2010    [[6755, 7302], [6284], [3310, 3310, 3311], [76...\n",
       "2011    [[5537], [1018, 1023, 1023, 1023, 1023, 1874],...\n",
       "2012    [[6984, 6984], [4966, 6570, 6670], [7221, 7222...\n",
       "2013    [[5439, 6718, 6718, 6729, 6990], [7313], [3825...\n",
       "2014    [[4023, 4032, 4032], [6324, 6769, 7332, 7343],...\n",
       "2015    [[4998, 4998], [2359, 2359, 5957, 5958], [2359...\n",
       "Name: US, dtype: object"
      ]
     },
     "execution_count": 6,
     "metadata": {},
     "output_type": "execute_result"
    }
   ],
   "source": [
    "s_US"
   ]
  },
  {
   "cell_type": "markdown",
   "metadata": {},
   "source": [
    "# AdjM building"
   ]
  },
  {
   "cell_type": "code",
   "execution_count": 7,
   "metadata": {
    "collapsed": true
   },
   "outputs": [],
   "source": [
    "def make_match_node_AdjDfs(df1, df2):\n",
    "    \n",
    "    # assumes dfs are symmetric and square\n",
    "    # should implement a check here...\n",
    "    \n",
    "    # get union of dataframe indexes\n",
    "    inx_1 = df1.index\n",
    "    inx_2 = df2.index\n",
    "    inx_un = inx_1.union(inx_2)\n",
    "    \n",
    "    # reindex both index and columns filling with 0\n",
    "    df1 = df1.reindex(index=inx_un, fill_value=0).reindex(columns=inx_un, fill_value=0)\n",
    "    df2 = df2.reindex(index=inx_un, fill_value=0).reindex(columns=inx_un, fill_value=0)\n",
    "    \n",
    "    return df1, df2"
   ]
  },
  {
   "cell_type": "markdown",
   "metadata": {},
   "source": [
    "# DeltaCon"
   ]
  },
  {
   "cell_type": "code",
   "execution_count": 8,
   "metadata": {
    "collapsed": false
   },
   "outputs": [],
   "source": [
    "def compute_FBP_invs(A):\n",
    "\n",
    "    # max power to calculate inverse to\n",
    "    max_pw = 7\n",
    "\n",
    "    # make identity\n",
    "    I = sp.identity(A.shape[0])\n",
    " \n",
    "    # remove self links - can't propogate beliefs to self - need to consider if the self links should be counted in\n",
    "    # degree still?\n",
    "    A = A - sp.dia_matrix((A.diagonal(), [0]),\n",
    "                                    shape=(A.shape[0], A.shape[0]))\n",
    "\n",
    "    # make degree matrix\n",
    "    ds = [int(x) for x in A.sum(axis=1)]\n",
    "    D = sp.dia_matrix((ds, [0]),\n",
    "                     shape=(len(ds), len(ds)))\n",
    "    \n",
    "    # compute about-half homophility factor that gaurentees convergences of W power series\n",
    "    c1 = D.sum() + 2\n",
    "    c2 = np.dot(D,D).sum() - 1 \n",
    "    h_h = sqrt((-c1+sqrt(c1**2 + 4*c2))\n",
    "               /(8*c2)\n",
    "              )\n",
    "    \n",
    "    # compute system constants ah (from ahD) and ch from (achA)\n",
    "    ah = 4*(h_h**2) /(1-4*(h_h**2))\n",
    "    ch = 2*h_h / (1-4*(h_h**2))\n",
    "    \n",
    "    # create matrix M to form (I - M)^-1\n",
    "    M = ch*A - ah*D\n",
    "    \n",
    "    # expand to power series to compute inverse\n",
    "    inv = I\n",
    "    mat = M\n",
    "    pwr = 1\n",
    "    while mat.data[mat.data.argmax()] > 10**(-9) and pwr < max_pw:\n",
    "        inv = inv + mat\n",
    "        mat = mat * M\n",
    "        pwr = pwr + 1\n",
    "    return inv"
   ]
  },
  {
   "cell_type": "code",
   "execution_count": 9,
   "metadata": {
    "collapsed": false
   },
   "outputs": [],
   "source": [
    "def DeltaCon(A1, A2):\n",
    "    \n",
    "    # quick return for identical networks\n",
    "    if (A1 != A2).nnz == 0:\n",
    "        print 'Iden'\n",
    "        return 1.0\n",
    "    \n",
    "    # initialize\n",
    "    # prior belief for nodes (doesn't really affect results of deltacon says paper)\n",
    "    # BUT it massively effects the results!!!!!!!\n",
    "    # the closer to 0.5, the greater the dampening on differences\n",
    "    p = 0.51\n",
    "    \n",
    "    # Solve the linear BP systems (FaBP): inv corresponds to [I + ah*D - ch*A]^-1\n",
    "    # and multiple by about-half prior beliefs\n",
    "    inv1 = compute_FBP_invs(A1) * (p-0.5)\n",
    "    inv2 = compute_FBP_invs(A2) * (p-0.5)\n",
    "    \n",
    "    # compute the similarities using Matusita distance\n",
    "    diffM = (inv1.sqrt() - inv2.sqrt())\n",
    "    diffM = diffM.multiply(diffM)\n",
    "    \n",
    "    # delete diagonal entries -  the influence nodes have on themselves\n",
    "    diffM = diffM - sp.dia_matrix((diffM.diagonal(), [0]), shape=(diffM.shape[0], diffM.shape[0]))\n",
    "\n",
    "    return 1 / (1 + sqrt(diffM.sum()))"
   ]
  },
  {
   "cell_type": "markdown",
   "metadata": {},
   "source": [
    "# Applying"
   ]
  },
  {
   "cell_type": "code",
   "execution_count": 10,
   "metadata": {
    "collapsed": true
   },
   "outputs": [],
   "source": [
    "def compute_DeltaCon_US_sims(s_US, years):\n",
    "    \n",
    "    # create dataframe to store similarities\n",
    "    df_temp = pd.DataFrame()\n",
    "    \n",
    "    # for countries in dataset\n",
    "    for y1 in years:\n",
    "        print '\\n%s' % y1 # to see progress\n",
    "        \n",
    "        # if the country1 has no patents then set similarity to -1 to denote this\n",
    "        if not s_US.loc[y1]:\n",
    "            for y2 in years:\n",
    "                df_temp.loc[y1,y2] = -1\n",
    "                df_temp.loc[y2,y1] = -1\n",
    "            \n",
    "        # else create adjacency dataframe df1 (via nx.graph) for country1\n",
    "        else:\n",
    "            g1 = nx.MultiGraph()\n",
    "            for ls in s_US.loc[y1]:\n",
    "                g1.add_edges_from(combinations(ls, 2))\n",
    "            Adf1 = nx.to_pandas_dataframe(g1)\n",
    "\n",
    "            # for countries 'greater' than country1 in dataset \n",
    "            for y2 in years[y1:]:\n",
    "                \n",
    "                # if countries are the same then set similarity to 1\n",
    "                if y1 == y2:\n",
    "                    print 'self',\n",
    "                    df_temp.loc[y1,y2] = 1\n",
    "                    \n",
    "                # else if the country of not empty then calculate DeltaCon sim for country1 and country2\n",
    "                else s_US.loc[y2]:\n",
    "                    print y2, # to see progress\n",
    "                    \n",
    "                    # create adjacency dataframe df2 (via nx.graph) for country2\n",
    "                    g2 = nx.MultiGraph()\n",
    "                    for ls in s_US.loc[y2]:\n",
    "                        g2.add_edges_from(combinations(ls, 2))    \n",
    "                    Adf2 = nx.to_pandas_dataframe(g2)\n",
    "                    \n",
    "                    # make adjacency dataframes compatible\n",
    "                    Adf1, Adf2 = make_match_node_AdjDfs(Adf1, Adf2)\n",
    "                    \n",
    "                    # convert to csr and compute DeltaCon\n",
    "                    sim = DeltaCon(sp.csr_matrix(Adf1.values), sp.csr_matrix(Adf2.values))\n",
    "                    \n",
    "                    #assign to dataframe\n",
    "                    df_temp.loc[y1,y2] = sim\n",
    "                    df_temp.loc[y2,y1] = sim\n",
    "                    \n",
    "    return df_temp"
   ]
  },
  {
   "cell_type": "code",
   "execution_count": 11,
   "metadata": {
    "collapsed": false
   },
   "outputs": [
    {
     "name": "stdout",
     "output_type": "stream",
     "text": [
      "\n",
      "1990\n",
      "\n",
      "1991\n",
      "\n",
      "1992\n",
      "\n",
      "1993\n",
      "\n",
      "1994\n",
      "\n",
      "1995\n",
      "\n",
      "1996\n",
      "\n",
      "1997\n",
      "\n",
      "1998\n",
      "\n",
      "1999\n",
      "\n",
      "2000\n"
     ]
    }
   ],
   "source": [
    "# initialise \n",
    "years = range(1990,2001)\n",
    "USdf = compute_DeltaCon_US_sims(s_US, years)"
   ]
  },
  {
   "cell_type": "code",
   "execution_count": 14,
   "metadata": {
    "collapsed": false
   },
   "outputs": [
    {
     "data": {
      "text/html": [
       "<div>\n",
       "<table border=\"1\" class=\"dataframe\">\n",
       "  <thead>\n",
       "    <tr style=\"text-align: right;\">\n",
       "      <th></th>\n",
       "    </tr>\n",
       "  </thead>\n",
       "  <tbody>\n",
       "  </tbody>\n",
       "</table>\n",
       "</div>"
      ],
      "text/plain": [
       "Empty DataFrame\n",
       "Columns: []\n",
       "Index: []"
      ]
     },
     "execution_count": 14,
     "metadata": {},
     "output_type": "execute_result"
    }
   ],
   "source": [
    "USdf"
   ]
  },
  {
   "cell_type": "code",
   "execution_count": 13,
   "metadata": {
    "collapsed": false
   },
   "outputs": [
    {
     "data": {
      "text/plain": [
       "[1990, 1991, 1992, 1993, 1994, 1995, 1996, 1997, 1998, 1999, 2000]"
      ]
     },
     "execution_count": 13,
     "metadata": {},
     "output_type": "execute_result"
    }
   ],
   "source": [
    "years"
   ]
  },
  {
   "cell_type": "code",
   "execution_count": 12,
   "metadata": {
    "collapsed": false
   },
   "outputs": [
    {
     "ename": "ValueError",
     "evalue": "zero-size array to reduction operation minimum which has no identity",
     "output_type": "error",
     "traceback": [
      "\u001b[0;31m---------------------------------------------------------------------------\u001b[0m",
      "\u001b[0;31mValueError\u001b[0m                                Traceback (most recent call last)",
      "\u001b[0;32m<ipython-input-12-7e32ffc6291f>\u001b[0m in \u001b[0;36m<module>\u001b[0;34m()\u001b[0m\n\u001b[0;32m----> 1\u001b[0;31m \u001b[0msns\u001b[0m\u001b[0;34m.\u001b[0m\u001b[0mheatmap\u001b[0m\u001b[0;34m(\u001b[0m\u001b[0mUSdf\u001b[0m\u001b[0;34m)\u001b[0m\u001b[0;34m\u001b[0m\u001b[0m\n\u001b[0m",
      "\u001b[0;32m//anaconda/lib/python2.7/site-packages/seaborn/matrix.pyc\u001b[0m in \u001b[0;36mheatmap\u001b[0;34m(data, vmin, vmax, cmap, center, robust, annot, fmt, annot_kws, linewidths, linecolor, cbar, cbar_kws, cbar_ax, square, ax, xticklabels, yticklabels, mask, **kwargs)\u001b[0m\n\u001b[1;32m    450\u001b[0m     plotter = _HeatMapper(data, vmin, vmax, cmap, center, robust, annot, fmt,\n\u001b[1;32m    451\u001b[0m                           \u001b[0mannot_kws\u001b[0m\u001b[0;34m,\u001b[0m \u001b[0mcbar\u001b[0m\u001b[0;34m,\u001b[0m \u001b[0mcbar_kws\u001b[0m\u001b[0;34m,\u001b[0m \u001b[0mxticklabels\u001b[0m\u001b[0;34m,\u001b[0m \u001b[0myticklabels\u001b[0m\u001b[0;34m,\u001b[0m\u001b[0;34m\u001b[0m\u001b[0m\n\u001b[0;32m--> 452\u001b[0;31m                           mask)\n\u001b[0m\u001b[1;32m    453\u001b[0m \u001b[0;34m\u001b[0m\u001b[0m\n\u001b[1;32m    454\u001b[0m     \u001b[0;31m# Add the pcolormesh kwargs here\u001b[0m\u001b[0;34m\u001b[0m\u001b[0;34m\u001b[0m\u001b[0m\n",
      "\u001b[0;32m//anaconda/lib/python2.7/site-packages/seaborn/matrix.pyc\u001b[0m in \u001b[0;36m__init__\u001b[0;34m(self, data, vmin, vmax, cmap, center, robust, annot, fmt, annot_kws, cbar, cbar_kws, xticklabels, yticklabels, mask)\u001b[0m\n\u001b[1;32m    156\u001b[0m         \u001b[0;31m# Determine good default values for the colormapping\u001b[0m\u001b[0;34m\u001b[0m\u001b[0;34m\u001b[0m\u001b[0m\n\u001b[1;32m    157\u001b[0m         self._determine_cmap_params(plot_data, vmin, vmax,\n\u001b[0;32m--> 158\u001b[0;31m                                     cmap, center, robust)\n\u001b[0m\u001b[1;32m    159\u001b[0m \u001b[0;34m\u001b[0m\u001b[0m\n\u001b[1;32m    160\u001b[0m         \u001b[0;31m# Save other attributes to the object\u001b[0m\u001b[0;34m\u001b[0m\u001b[0;34m\u001b[0m\u001b[0m\n",
      "\u001b[0;32m//anaconda/lib/python2.7/site-packages/seaborn/matrix.pyc\u001b[0m in \u001b[0;36m_determine_cmap_params\u001b[0;34m(self, plot_data, vmin, vmax, cmap, center, robust)\u001b[0m\n\u001b[1;32m    172\u001b[0m         \u001b[0mcalc_data\u001b[0m \u001b[0;34m=\u001b[0m \u001b[0mplot_data\u001b[0m\u001b[0;34m.\u001b[0m\u001b[0mdata\u001b[0m\u001b[0;34m[\u001b[0m\u001b[0;34m~\u001b[0m\u001b[0mnp\u001b[0m\u001b[0;34m.\u001b[0m\u001b[0misnan\u001b[0m\u001b[0;34m(\u001b[0m\u001b[0mplot_data\u001b[0m\u001b[0;34m.\u001b[0m\u001b[0mdata\u001b[0m\u001b[0;34m)\u001b[0m\u001b[0;34m]\u001b[0m\u001b[0;34m\u001b[0m\u001b[0m\n\u001b[1;32m    173\u001b[0m         \u001b[0;32mif\u001b[0m \u001b[0mvmin\u001b[0m \u001b[0;32mis\u001b[0m \u001b[0mNone\u001b[0m\u001b[0;34m:\u001b[0m\u001b[0;34m\u001b[0m\u001b[0m\n\u001b[0;32m--> 174\u001b[0;31m             \u001b[0mvmin\u001b[0m \u001b[0;34m=\u001b[0m \u001b[0mnp\u001b[0m\u001b[0;34m.\u001b[0m\u001b[0mpercentile\u001b[0m\u001b[0;34m(\u001b[0m\u001b[0mcalc_data\u001b[0m\u001b[0;34m,\u001b[0m \u001b[0;36m2\u001b[0m\u001b[0;34m)\u001b[0m \u001b[0;32mif\u001b[0m \u001b[0mrobust\u001b[0m \u001b[0;32melse\u001b[0m \u001b[0mcalc_data\u001b[0m\u001b[0;34m.\u001b[0m\u001b[0mmin\u001b[0m\u001b[0;34m(\u001b[0m\u001b[0;34m)\u001b[0m\u001b[0;34m\u001b[0m\u001b[0m\n\u001b[0m\u001b[1;32m    175\u001b[0m         \u001b[0;32mif\u001b[0m \u001b[0mvmax\u001b[0m \u001b[0;32mis\u001b[0m \u001b[0mNone\u001b[0m\u001b[0;34m:\u001b[0m\u001b[0;34m\u001b[0m\u001b[0m\n\u001b[1;32m    176\u001b[0m             \u001b[0mvmax\u001b[0m \u001b[0;34m=\u001b[0m \u001b[0mnp\u001b[0m\u001b[0;34m.\u001b[0m\u001b[0mpercentile\u001b[0m\u001b[0;34m(\u001b[0m\u001b[0mcalc_data\u001b[0m\u001b[0;34m,\u001b[0m \u001b[0;36m98\u001b[0m\u001b[0;34m)\u001b[0m \u001b[0;32mif\u001b[0m \u001b[0mrobust\u001b[0m \u001b[0;32melse\u001b[0m \u001b[0mcalc_data\u001b[0m\u001b[0;34m.\u001b[0m\u001b[0mmax\u001b[0m\u001b[0;34m(\u001b[0m\u001b[0;34m)\u001b[0m\u001b[0;34m\u001b[0m\u001b[0m\n",
      "\u001b[0;32m//anaconda/lib/python2.7/site-packages/numpy/core/_methods.pyc\u001b[0m in \u001b[0;36m_amin\u001b[0;34m(a, axis, out, keepdims)\u001b[0m\n\u001b[1;32m     27\u001b[0m \u001b[0;34m\u001b[0m\u001b[0m\n\u001b[1;32m     28\u001b[0m \u001b[0;32mdef\u001b[0m \u001b[0m_amin\u001b[0m\u001b[0;34m(\u001b[0m\u001b[0ma\u001b[0m\u001b[0;34m,\u001b[0m \u001b[0maxis\u001b[0m\u001b[0;34m=\u001b[0m\u001b[0mNone\u001b[0m\u001b[0;34m,\u001b[0m \u001b[0mout\u001b[0m\u001b[0;34m=\u001b[0m\u001b[0mNone\u001b[0m\u001b[0;34m,\u001b[0m \u001b[0mkeepdims\u001b[0m\u001b[0;34m=\u001b[0m\u001b[0mFalse\u001b[0m\u001b[0;34m)\u001b[0m\u001b[0;34m:\u001b[0m\u001b[0;34m\u001b[0m\u001b[0m\n\u001b[0;32m---> 29\u001b[0;31m     \u001b[0;32mreturn\u001b[0m \u001b[0mumr_minimum\u001b[0m\u001b[0;34m(\u001b[0m\u001b[0ma\u001b[0m\u001b[0;34m,\u001b[0m \u001b[0maxis\u001b[0m\u001b[0;34m,\u001b[0m \u001b[0mNone\u001b[0m\u001b[0;34m,\u001b[0m \u001b[0mout\u001b[0m\u001b[0;34m,\u001b[0m \u001b[0mkeepdims\u001b[0m\u001b[0;34m)\u001b[0m\u001b[0;34m\u001b[0m\u001b[0m\n\u001b[0m\u001b[1;32m     30\u001b[0m \u001b[0;34m\u001b[0m\u001b[0m\n\u001b[1;32m     31\u001b[0m \u001b[0;32mdef\u001b[0m \u001b[0m_sum\u001b[0m\u001b[0;34m(\u001b[0m\u001b[0ma\u001b[0m\u001b[0;34m,\u001b[0m \u001b[0maxis\u001b[0m\u001b[0;34m=\u001b[0m\u001b[0mNone\u001b[0m\u001b[0;34m,\u001b[0m \u001b[0mdtype\u001b[0m\u001b[0;34m=\u001b[0m\u001b[0mNone\u001b[0m\u001b[0;34m,\u001b[0m \u001b[0mout\u001b[0m\u001b[0;34m=\u001b[0m\u001b[0mNone\u001b[0m\u001b[0;34m,\u001b[0m \u001b[0mkeepdims\u001b[0m\u001b[0;34m=\u001b[0m\u001b[0mFalse\u001b[0m\u001b[0;34m)\u001b[0m\u001b[0;34m:\u001b[0m\u001b[0;34m\u001b[0m\u001b[0m\n",
      "\u001b[0;31mValueError\u001b[0m: zero-size array to reduction operation minimum which has no identity"
     ]
    }
   ],
   "source": [
    "sns.heatmap(USdf)"
   ]
  },
  {
   "cell_type": "code",
   "execution_count": null,
   "metadata": {
    "collapsed": true
   },
   "outputs": [],
   "source": []
  }
 ],
 "metadata": {
  "kernelspec": {
   "display_name": "Python 2",
   "language": "python",
   "name": "python2"
  },
  "language_info": {
   "codemirror_mode": {
    "name": "ipython",
    "version": 2
   },
   "file_extension": ".py",
   "mimetype": "text/x-python",
   "name": "python",
   "nbconvert_exporter": "python",
   "pygments_lexer": "ipython2",
   "version": "2.7.11"
  }
 },
 "nbformat": 4,
 "nbformat_minor": 0
}
