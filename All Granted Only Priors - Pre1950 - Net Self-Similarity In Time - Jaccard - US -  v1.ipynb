{
 "cells": [
  {
   "cell_type": "code",
   "execution_count": 1,
   "metadata": {
    "collapsed": false
   },
   "outputs": [],
   "source": [
    "%matplotlib inline\n",
    "import matplotlib.pyplot as plt\n",
    "plt.style.use('ggplot')\n",
    "from IPython.display import clear_output\n",
    "import seaborn as sns\n",
    "\n",
    "import cPickle as pk\n",
    "import pandas as pd\n",
    "import networkx as nx\n",
    "import scipy.sparse as sp\n",
    "import itertools as itls\n",
    "from itertools import combinations\n",
    "import numpy as np\n",
    "from math import sqrt\n",
    "\n",
    "import sys"
   ]
  },
  {
   "cell_type": "markdown",
   "metadata": {},
   "source": [
    "## Importing\n",
    "[to top](#Table-of-Contents) "
   ]
  },
  {
   "cell_type": "code",
   "execution_count": 2,
   "metadata": {
    "collapsed": false
   },
   "outputs": [
    {
     "data": {
      "text/plain": [
       "u'/Users/innovation-sfi/Dropbox/Research/Innovation/EPO/Data_processing/Python'"
      ]
     },
     "execution_count": 2,
     "metadata": {},
     "output_type": "execute_result"
    }
   ],
   "source": [
    "pwd"
   ]
  },
  {
   "cell_type": "code",
   "execution_count": 3,
   "metadata": {
    "collapsed": false,
    "scrolled": true
   },
   "outputs": [
    {
     "data": {
      "text/html": [
       "<div>\n",
       "<table border=\"1\" class=\"dataframe\">\n",
       "  <thead>\n",
       "    <tr style=\"text-align: right;\">\n",
       "      <th>appln_auth</th>\n",
       "      <th>AT</th>\n",
       "      <th>AU</th>\n",
       "      <th>BE</th>\n",
       "      <th>CA</th>\n",
       "      <th>CH</th>\n",
       "      <th>DE</th>\n",
       "      <th>DK</th>\n",
       "      <th>ES</th>\n",
       "      <th>FI</th>\n",
       "      <th>FR</th>\n",
       "      <th>...</th>\n",
       "      <th>IE</th>\n",
       "      <th>IS</th>\n",
       "      <th>IT</th>\n",
       "      <th>JP</th>\n",
       "      <th>LU</th>\n",
       "      <th>NL</th>\n",
       "      <th>NO</th>\n",
       "      <th>SE</th>\n",
       "      <th>SU</th>\n",
       "      <th>US</th>\n",
       "    </tr>\n",
       "    <tr>\n",
       "      <th>pub_year</th>\n",
       "      <th></th>\n",
       "      <th></th>\n",
       "      <th></th>\n",
       "      <th></th>\n",
       "      <th></th>\n",
       "      <th></th>\n",
       "      <th></th>\n",
       "      <th></th>\n",
       "      <th></th>\n",
       "      <th></th>\n",
       "      <th></th>\n",
       "      <th></th>\n",
       "      <th></th>\n",
       "      <th></th>\n",
       "      <th></th>\n",
       "      <th></th>\n",
       "      <th></th>\n",
       "      <th></th>\n",
       "      <th></th>\n",
       "      <th></th>\n",
       "      <th></th>\n",
       "    </tr>\n",
       "  </thead>\n",
       "  <tbody>\n",
       "    <tr>\n",
       "      <th>1836</th>\n",
       "      <td>[]</td>\n",
       "      <td>[]</td>\n",
       "      <td>[]</td>\n",
       "      <td>[]</td>\n",
       "      <td>[]</td>\n",
       "      <td>[]</td>\n",
       "      <td>[]</td>\n",
       "      <td>[]</td>\n",
       "      <td>[]</td>\n",
       "      <td>[]</td>\n",
       "      <td>...</td>\n",
       "      <td>[]</td>\n",
       "      <td>[]</td>\n",
       "      <td>[]</td>\n",
       "      <td>[]</td>\n",
       "      <td>[]</td>\n",
       "      <td>[]</td>\n",
       "      <td>[]</td>\n",
       "      <td>[]</td>\n",
       "      <td>[]</td>\n",
       "      <td>[[1513, 1789], [1268, 1855], [1762, 1821], [24...</td>\n",
       "    </tr>\n",
       "    <tr>\n",
       "      <th>1837</th>\n",
       "      <td>[]</td>\n",
       "      <td>[]</td>\n",
       "      <td>[]</td>\n",
       "      <td>[]</td>\n",
       "      <td>[]</td>\n",
       "      <td>[]</td>\n",
       "      <td>[]</td>\n",
       "      <td>[]</td>\n",
       "      <td>[]</td>\n",
       "      <td>[]</td>\n",
       "      <td>...</td>\n",
       "      <td>[]</td>\n",
       "      <td>[]</td>\n",
       "      <td>[]</td>\n",
       "      <td>[]</td>\n",
       "      <td>[]</td>\n",
       "      <td>[]</td>\n",
       "      <td>[]</td>\n",
       "      <td>[]</td>\n",
       "      <td>[]</td>\n",
       "      <td>[[5834, 5836], [4907, 5440], [799, 5648], [602...</td>\n",
       "    </tr>\n",
       "    <tr>\n",
       "      <th>1838</th>\n",
       "      <td>[]</td>\n",
       "      <td>[]</td>\n",
       "      <td>[]</td>\n",
       "      <td>[]</td>\n",
       "      <td>[]</td>\n",
       "      <td>[]</td>\n",
       "      <td>[]</td>\n",
       "      <td>[]</td>\n",
       "      <td>[]</td>\n",
       "      <td>[]</td>\n",
       "      <td>...</td>\n",
       "      <td>[]</td>\n",
       "      <td>[]</td>\n",
       "      <td>[]</td>\n",
       "      <td>[]</td>\n",
       "      <td>[]</td>\n",
       "      <td>[]</td>\n",
       "      <td>[]</td>\n",
       "      <td>[]</td>\n",
       "      <td>[]</td>\n",
       "      <td>[[1537, 1774], [1154, 1208], [2724, 2748], [40...</td>\n",
       "    </tr>\n",
       "    <tr>\n",
       "      <th>1839</th>\n",
       "      <td>[]</td>\n",
       "      <td>[]</td>\n",
       "      <td>[]</td>\n",
       "      <td>[]</td>\n",
       "      <td>[]</td>\n",
       "      <td>[]</td>\n",
       "      <td>[]</td>\n",
       "      <td>[]</td>\n",
       "      <td>[]</td>\n",
       "      <td>[]</td>\n",
       "      <td>...</td>\n",
       "      <td>[]</td>\n",
       "      <td>[]</td>\n",
       "      <td>[]</td>\n",
       "      <td>[]</td>\n",
       "      <td>[]</td>\n",
       "      <td>[]</td>\n",
       "      <td>[]</td>\n",
       "      <td>[]</td>\n",
       "      <td>[]</td>\n",
       "      <td>[[4212, 4231], [5078, 6180], [4915, 5001], [33...</td>\n",
       "    </tr>\n",
       "    <tr>\n",
       "      <th>1840</th>\n",
       "      <td>[]</td>\n",
       "      <td>[]</td>\n",
       "      <td>[]</td>\n",
       "      <td>[]</td>\n",
       "      <td>[]</td>\n",
       "      <td>[]</td>\n",
       "      <td>[]</td>\n",
       "      <td>[]</td>\n",
       "      <td>[]</td>\n",
       "      <td>[]</td>\n",
       "      <td>...</td>\n",
       "      <td>[]</td>\n",
       "      <td>[]</td>\n",
       "      <td>[]</td>\n",
       "      <td>[]</td>\n",
       "      <td>[]</td>\n",
       "      <td>[]</td>\n",
       "      <td>[]</td>\n",
       "      <td>[]</td>\n",
       "      <td>[]</td>\n",
       "      <td>[[2722, 2748], [1862, 1862], [1161, 5985], [48...</td>\n",
       "    </tr>\n",
       "  </tbody>\n",
       "</table>\n",
       "<p>5 rows × 22 columns</p>\n",
       "</div>"
      ],
      "text/plain": [
       "appln_auth  AT  AU  BE  CA  CH  DE  DK  ES  FI  FR  \\\n",
       "pub_year                                             \n",
       "1836        []  []  []  []  []  []  []  []  []  []   \n",
       "1837        []  []  []  []  []  []  []  []  []  []   \n",
       "1838        []  []  []  []  []  []  []  []  []  []   \n",
       "1839        []  []  []  []  []  []  []  []  []  []   \n",
       "1840        []  []  []  []  []  []  []  []  []  []   \n",
       "\n",
       "appln_auth                        ...                          IE  IS  IT  JP  \\\n",
       "pub_year                          ...                                           \n",
       "1836                              ...                          []  []  []  []   \n",
       "1837                              ...                          []  []  []  []   \n",
       "1838                              ...                          []  []  []  []   \n",
       "1839                              ...                          []  []  []  []   \n",
       "1840                              ...                          []  []  []  []   \n",
       "\n",
       "appln_auth  LU  NL  NO  SE  SU  \\\n",
       "pub_year                         \n",
       "1836        []  []  []  []  []   \n",
       "1837        []  []  []  []  []   \n",
       "1838        []  []  []  []  []   \n",
       "1839        []  []  []  []  []   \n",
       "1840        []  []  []  []  []   \n",
       "\n",
       "appln_auth                                                 US  \n",
       "pub_year                                                       \n",
       "1836        [[1513, 1789], [1268, 1855], [1762, 1821], [24...  \n",
       "1837        [[5834, 5836], [4907, 5440], [799, 5648], [602...  \n",
       "1838        [[1537, 1774], [1154, 1208], [2724, 2748], [40...  \n",
       "1839        [[4212, 4231], [5078, 6180], [4915, 5001], [33...  \n",
       "1840        [[2722, 2748], [1862, 1862], [1161, 5985], [48...  \n",
       "\n",
       "[5 rows x 22 columns]"
      ]
     },
     "execution_count": 3,
     "metadata": {},
     "output_type": "execute_result"
    }
   ],
   "source": [
    "df = pk.load(open('pickles_and_munged_csv/pre1950_cated_cumed_codes_as_ints_v1.pk', 'rb')); df.head()"
   ]
  },
  {
   "cell_type": "code",
   "execution_count": 4,
   "metadata": {
    "collapsed": false
   },
   "outputs": [],
   "source": [
    "s_US = df.US"
   ]
  },
  {
   "cell_type": "code",
   "execution_count": 5,
   "metadata": {
    "collapsed": true
   },
   "outputs": [],
   "source": [
    "del df"
   ]
  },
  {
   "cell_type": "code",
   "execution_count": 6,
   "metadata": {
    "collapsed": false,
    "scrolled": true
   },
   "outputs": [
    {
     "data": {
      "text/plain": [
       "pub_year\n",
       "1836    [[1513, 1789], [1268, 1855], [1762, 1821], [24...\n",
       "1837    [[5834, 5836], [4907, 5440], [799, 5648], [602...\n",
       "1838    [[1537, 1774], [1154, 1208], [2724, 2748], [40...\n",
       "1839    [[4212, 4231], [5078, 6180], [4915, 5001], [33...\n",
       "1840    [[2722, 2748], [1862, 1862], [1161, 5985], [48...\n",
       "1841    [[5986, 6001], [3027, 5586], [2964, 3002], [18...\n",
       "1842    [[4897, 5004], [5740, 5803], [5349, 5421], [11...\n",
       "1843    [[1762, 1821], [1762, 1821], [5704, 5807], [57...\n",
       "1844    [[3764, 3825], [1520, 1764], [4641, 4643], [11...\n",
       "1845    [[5318, 5404], [1060, 4759], [3969, 4052], [23...\n",
       "1846    [[4097, 6441], [5610, 6516], [1204, 1758], [17...\n",
       "1847    [[4097, 6441], [1816, 1817], [1722, 5438], [17...\n",
       "1848    [[335, 2889], [4315, 4750], [5471, 5479, 5479]...\n",
       "1849    [[5479, 5479], [1496, 1622], [1237, 5473], [50...\n",
       "1850    [[1754, 1764], [659, 813], [1513, 1789], [1848...\n",
       "1851    [[327, 332], [4810, 5731], [1829, 1853], [5740...\n",
       "1852    [[5687, 6199], [4898, 4929], [110, 1211], [489...\n",
       "1853    [[5338, 5907], [1622, 6508], [35, 64], [1776, ...\n",
       "1854    [[5004, 5907], [715, 1703], [4879, 4907], [280...\n",
       "1855    [[1754, 1764], [2104, 5723], [4057, 4057, 5723...\n",
       "1856    [[4414, 4697], [1722, 5438], [2219, 6715], [57...\n",
       "1857    [[5333, 5337], [5088, 5352], [799, 799, 799, 7...\n",
       "1858    [[1754, 4692], [103, 1274], [1721, 1740], [24,...\n",
       "1859    [[2437, 2551], [672, 5436], [1373, 1743], [296...\n",
       "1860    [[807, 1874], [1152, 1202], [757, 3024], [1247...\n",
       "1861    [[6544, 6902], [1030, 6600], [663, 2400], [212...\n",
       "1862    [[447, 4637], [5729, 5804], [70, 103], [1275, ...\n",
       "1863    [[5740, 5803], [1165, 3294], [5729, 5804], [79...\n",
       "1864    [[5729, 5804], [414, 577], [2431, 5555], [5729...\n",
       "1865    [[157, 1760], [148, 1754], [4962, 4994], [304,...\n",
       "                              ...                        \n",
       "1986    [[4278, 4299, 4299, 5016], [1175, 1175, 1175, ...\n",
       "1987    [[3721, 3722], [3766, 3767, 3767], [1488, 4355...\n",
       "1988    [[6575], [2441, 2441, 2441], [588, 590, 766, 1...\n",
       "1989    [[1893], [1142, 5794, 5796, 5814, 5815], [2801...\n",
       "1990    [[3080, 3080], [1847, 1851, 2021], [3298, 4005...\n",
       "1991    [[3422, 3426, 3495, 3496], [1172, 6279], [7023...\n",
       "1992    [[3642, 3642, 3743, 3826], [232, 853, 853, 853...\n",
       "1993    [[40, 6600, 7232], [1148, 1150, 3606, 4746, 47...\n",
       "1994    [[6094, 6119, 6122, 6127], [3082, 3208], [4179...\n",
       "1995    [[3412, 3412, 3425, 3430, 3431, 3451, 3455, 34...\n",
       "1996    [[2324, 3730, 3731, 3737], [3692, 3692, 3692, ...\n",
       "1997    [[3692, 3737], [2313, 2328, 2328, 2328, 2328, ...\n",
       "1998    [[2324, 3737], [3689, 3689, 3730, 3731, 3737],...\n",
       "1999    [[6412, 6415, 6415], [766, 766, 766, 766, 766,...\n",
       "2000    [[6574, 6574, 6578, 6579, 6579], [1173, 1179, ...\n",
       "2001    [[6350, 6350, 6350], [3294, 3297, 3302], [3289...\n",
       "2002    [[1449, 1854, 1858], [2877], [2137, 2141, 2141...\n",
       "2003    [[585, 586, 588, 2850, 2864], [1172, 1172], [6...\n",
       "2004    [[4849, 4851, 6156], [5119, 5646], [248], [360...\n",
       "2005    [[1655, 1655], [7018, 7020, 7208, 7218, 7220, ...\n",
       "2006    [[2331, 2331, 2332], [7352, 7359, 7359], [6987...\n",
       "2007    [[6579], [1488, 4278], [6984, 6984, 6984, 6984...\n",
       "2008    [[3701, 6857, 6885, 6891], [4023, 4032, 4032, ...\n",
       "2009    [[3579, 3579, 3579, 3579], [5109, 5111], [7256...\n",
       "2010    [[6755, 7302], [6284], [3310, 3310, 3311], [76...\n",
       "2011    [[5537], [1018, 1023, 1023, 1023, 1023, 1874],...\n",
       "2012    [[6984, 6984], [4966, 6570, 6670], [7221, 7222...\n",
       "2013    [[5439, 6718, 6718, 6729, 6990], [7313], [3825...\n",
       "2014    [[4023, 4032, 4032], [6324, 6769, 7332, 7343],...\n",
       "2015    [[4998, 4998], [2359, 2359, 5957, 5958], [2359...\n",
       "Name: US, dtype: object"
      ]
     },
     "execution_count": 6,
     "metadata": {},
     "output_type": "execute_result"
    }
   ],
   "source": [
    "s_US"
   ]
  },
  {
   "cell_type": "markdown",
   "metadata": {},
   "source": [
    "# Applying"
   ]
  },
  {
   "cell_type": "code",
   "execution_count": 7,
   "metadata": {
    "collapsed": true
   },
   "outputs": [],
   "source": [
    "def compute_Jac_US_sims(s_US, years):\n",
    "    \n",
    "    # create dataframe to store similarities\n",
    "    df_temp = pd.DataFrame()\n",
    "    \n",
    "    # for countries in dataset\n",
    "    for i, y1 in enumerate(years):\n",
    "        print '\\n%s' % y1 # to see progress\n",
    "    \n",
    "            \n",
    "        # create adjacency dataframe df1 (via nx.graph) for country1\n",
    "        g1 = nx.MultiGraph()\n",
    "        for ls in s_US.loc[y1]:\n",
    "            g1.add_edges_from(combinations(ls, 2))\n",
    "\n",
    "        # for countries 'greater' than country1 in dataset \n",
    "        for y2 in years[i:]:\n",
    "\n",
    "            # if countries are the same then set similarity to 1\n",
    "            if y1 == y2:\n",
    "                print 'self',\n",
    "                df_temp.loc[y1,y2] = 1\n",
    "\n",
    "            # else if the country of not empty then calculate DeltaCon sim for country1 and country2\n",
    "            else:\n",
    "                print y2, # to see progress\n",
    "\n",
    "                # create adjacency dataframe df2 (via nx.graph) for country2\n",
    "                g2 = nx.MultiGraph()\n",
    "                for ls in s_US.loc[y2]:\n",
    "                    g2.add_edges_from(combinations(ls, 2))    \n",
    "                \n",
    "                lnk_c1 = Counter(g1.edges())\n",
    "                lnk_c2 = Counter(g2.edges())\n",
    "                jac_indx = sum((lnk_c1 & lnk_c2).values())/float(sum((lnk_c1 | lnk_c2).values()))\n",
    "\n",
    "                #assign to dataframe\n",
    "                df_temp.loc[y1,y2] = jac_indx\n",
    "                df_temp.loc[y2,y1] = jac_indx\n",
    "                    \n",
    "    return df_temp"
   ]
  },
  {
   "cell_type": "code",
   "execution_count": 8,
   "metadata": {
    "collapsed": false
   },
   "outputs": [
    {
     "name": "stdout",
     "output_type": "stream",
     "text": [
      "\n",
      "1836\n",
      "self 1837"
     ]
    },
    {
     "ename": "NameError",
     "evalue": "global name 'Counter' is not defined",
     "output_type": "error",
     "traceback": [
      "\u001b[0;31m---------------------------------------------------------------------------\u001b[0m",
      "\u001b[0;31mNameError\u001b[0m                                 Traceback (most recent call last)",
      "\u001b[0;32m<ipython-input-8-f499a8ba3178>\u001b[0m in \u001b[0;36m<module>\u001b[0;34m()\u001b[0m\n\u001b[1;32m      1\u001b[0m \u001b[0;31m# initialise\u001b[0m\u001b[0;34m\u001b[0m\u001b[0;34m\u001b[0m\u001b[0m\n\u001b[1;32m      2\u001b[0m \u001b[0myears\u001b[0m \u001b[0;34m=\u001b[0m \u001b[0mrange\u001b[0m\u001b[0;34m(\u001b[0m\u001b[0;36m1836\u001b[0m\u001b[0;34m,\u001b[0m\u001b[0;36m1901\u001b[0m\u001b[0;34m)\u001b[0m\u001b[0;34m\u001b[0m\u001b[0m\n\u001b[0;32m----> 3\u001b[0;31m \u001b[0mUSdf\u001b[0m \u001b[0;34m=\u001b[0m \u001b[0mcompute_Jac_US_sims\u001b[0m\u001b[0;34m(\u001b[0m\u001b[0ms_US\u001b[0m\u001b[0;34m,\u001b[0m \u001b[0myears\u001b[0m\u001b[0;34m)\u001b[0m\u001b[0;34m\u001b[0m\u001b[0m\n\u001b[0m",
      "\u001b[0;32m<ipython-input-7-4dbd72adce1c>\u001b[0m in \u001b[0;36mcompute_Jac_US_sims\u001b[0;34m(s_US, years)\u001b[0m\n\u001b[1;32m     31\u001b[0m                     \u001b[0mg2\u001b[0m\u001b[0;34m.\u001b[0m\u001b[0madd_edges_from\u001b[0m\u001b[0;34m(\u001b[0m\u001b[0mcombinations\u001b[0m\u001b[0;34m(\u001b[0m\u001b[0mls\u001b[0m\u001b[0;34m,\u001b[0m \u001b[0;36m2\u001b[0m\u001b[0;34m)\u001b[0m\u001b[0;34m)\u001b[0m\u001b[0;34m\u001b[0m\u001b[0m\n\u001b[1;32m     32\u001b[0m \u001b[0;34m\u001b[0m\u001b[0m\n\u001b[0;32m---> 33\u001b[0;31m                 \u001b[0mlnk_c1\u001b[0m \u001b[0;34m=\u001b[0m \u001b[0mCounter\u001b[0m\u001b[0;34m(\u001b[0m\u001b[0mg1\u001b[0m\u001b[0;34m.\u001b[0m\u001b[0medges\u001b[0m\u001b[0;34m(\u001b[0m\u001b[0;34m)\u001b[0m\u001b[0;34m)\u001b[0m\u001b[0;34m\u001b[0m\u001b[0m\n\u001b[0m\u001b[1;32m     34\u001b[0m                 \u001b[0mlnk_c2\u001b[0m \u001b[0;34m=\u001b[0m \u001b[0mCounter\u001b[0m\u001b[0;34m(\u001b[0m\u001b[0mg2\u001b[0m\u001b[0;34m.\u001b[0m\u001b[0medges\u001b[0m\u001b[0;34m(\u001b[0m\u001b[0;34m)\u001b[0m\u001b[0;34m)\u001b[0m\u001b[0;34m\u001b[0m\u001b[0m\n\u001b[1;32m     35\u001b[0m                 \u001b[0mjac_indx\u001b[0m \u001b[0;34m=\u001b[0m \u001b[0msum\u001b[0m\u001b[0;34m(\u001b[0m\u001b[0;34m(\u001b[0m\u001b[0mlnk_c1\u001b[0m \u001b[0;34m&\u001b[0m \u001b[0mlnk_c2\u001b[0m\u001b[0;34m)\u001b[0m\u001b[0;34m.\u001b[0m\u001b[0mvalues\u001b[0m\u001b[0;34m(\u001b[0m\u001b[0;34m)\u001b[0m\u001b[0;34m)\u001b[0m\u001b[0;34m/\u001b[0m\u001b[0mfloat\u001b[0m\u001b[0;34m(\u001b[0m\u001b[0msum\u001b[0m\u001b[0;34m(\u001b[0m\u001b[0;34m(\u001b[0m\u001b[0mlnk_c1\u001b[0m \u001b[0;34m|\u001b[0m \u001b[0mlnk_c2\u001b[0m\u001b[0;34m)\u001b[0m\u001b[0;34m.\u001b[0m\u001b[0mvalues\u001b[0m\u001b[0;34m(\u001b[0m\u001b[0;34m)\u001b[0m\u001b[0;34m)\u001b[0m\u001b[0;34m)\u001b[0m\u001b[0;34m\u001b[0m\u001b[0m\n",
      "\u001b[0;31mNameError\u001b[0m: global name 'Counter' is not defined"
     ]
    }
   ],
   "source": [
    "# initialise \n",
    "years = range(1836,1901)\n",
    "USdf = compute_Jac_US_sims(s_US, years)"
   ]
  },
  {
   "cell_type": "code",
   "execution_count": null,
   "metadata": {
    "collapsed": true
   },
   "outputs": [],
   "source": [
    "pk.dump(USdf, open('pickles_and_munged_csv/sim_dfs/all_grant_no_priors_pre1950_jac_multi_sim_US_1836_1900.pk',\n",
    "                            'wb'))"
   ]
  },
  {
   "cell_type": "code",
   "execution_count": null,
   "metadata": {
    "collapsed": false,
    "scrolled": true
   },
   "outputs": [],
   "source": [
    "USdf"
   ]
  },
  {
   "cell_type": "code",
   "execution_count": null,
   "metadata": {
    "collapsed": false
   },
   "outputs": [],
   "source": [
    "sns.heatmap(USdf)"
   ]
  },
  {
   "cell_type": "code",
   "execution_count": null,
   "metadata": {
    "collapsed": true
   },
   "outputs": [],
   "source": []
  }
 ],
 "metadata": {
  "kernelspec": {
   "display_name": "Python 2",
   "language": "python",
   "name": "python2"
  },
  "language_info": {
   "codemirror_mode": {
    "name": "ipython",
    "version": 2
   },
   "file_extension": ".py",
   "mimetype": "text/x-python",
   "name": "python",
   "nbconvert_exporter": "python",
   "pygments_lexer": "ipython2",
   "version": "2.7.11"
  }
 },
 "nbformat": 4,
 "nbformat_minor": 0
}
