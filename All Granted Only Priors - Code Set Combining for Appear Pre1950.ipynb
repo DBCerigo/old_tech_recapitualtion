{
 "cells": [
  {
   "cell_type": "code",
   "execution_count": null,
   "metadata": {
    "collapsed": false
   },
   "outputs": [],
   "source": [
    "%matplotlib inline\n",
    "import matplotlib.pyplot as plt\n",
    "plt.style.use('ggplot')\n",
    "import cPickle as pk\n",
    "import pandas as pd\n",
    "from IPython.display import clear_output"
   ]
  },
  {
   "cell_type": "markdown",
   "metadata": {},
   "source": [
    "# Code combining into Auth Year combination sets"
   ]
  },
  {
   "cell_type": "markdown",
   "metadata": {},
   "source": [
    "##### Prelim Data Munge"
   ]
  },
  {
   "cell_type": "code",
   "execution_count": null,
   "metadata": {
    "collapsed": true
   },
   "outputs": [],
   "source": [
    "#Date to years function - works on application date and publication date in one\n",
    "def date_to_year(df):\n",
    "    if 'appln_filing_date' in df.columns:\n",
    "        df.appln_filing_date = df.appln_filing_date.map(lambda x:int(x[:4]))\n",
    "        df.rename(columns={'appln_filing_date':'app_year'}, inplace=True)\n",
    "    if 'publn_date'in df.columns:\n",
    "        df.publn_date = df.publn_date.map(lambda x:int(x[:4]))\n",
    "        df.rename(columns={'publn_date':'pub_year'}, inplace=True)\n",
    "    return"
   ]
  },
  {
   "cell_type": "markdown",
   "metadata": {},
   "source": [
    "## Importing\n",
    "[to top](#Table-of-Contents) "
   ]
  },
  {
   "cell_type": "code",
   "execution_count": null,
   "metadata": {
    "collapsed": false,
    "scrolled": true
   },
   "outputs": [],
   "source": [
    "pwd"
   ]
  },
  {
   "cell_type": "code",
   "execution_count": null,
   "metadata": {
    "collapsed": false,
    "scrolled": true
   },
   "outputs": [],
   "source": [
    "#%time df1 = pk.load(open('pickles_and_munged_csv/final_data_v3.pk','rb'))\n",
    "%time df2 = pd.read_csv('pickles_and_munged_csv/final_data_codes_as_ints_v1.csv', engine='c', dtype={'publn_nr':str,'appln_id':str})\n",
    "# pickling is so so slow..."
   ]
  },
  {
   "cell_type": "raw",
   "metadata": {},
   "source": [
    "CPU times: user 6min 15s, sys: 59.7 s, total: 7min 15s\n",
    "Wall time: 8min\n",
    "CPU times: user 22.2 s, sys: 3.01 s, total: 25.2 s\n",
    "Wall time: 27.4 s"
   ]
  },
  {
   "cell_type": "code",
   "execution_count": null,
   "metadata": {
    "collapsed": false
   },
   "outputs": [],
   "source": [
    "print df2.appln_auth.unique()\n",
    "print len(df2.appln_auth.unique())"
   ]
  },
  {
   "cell_type": "code",
   "execution_count": null,
   "metadata": {
    "collapsed": false
   },
   "outputs": [],
   "source": [
    "# countries appearing before 1950\n",
    "cntr_pre1950 = pk.load(open('pickles_and_munged_csv/cntr_ls_appear_before_1950.pk','rb'))\n",
    "cntr_pre1950"
   ]
  },
  {
   "cell_type": "code",
   "execution_count": null,
   "metadata": {
    "collapsed": false
   },
   "outputs": [],
   "source": [
    "# munge dates to years\n",
    "date_to_year(df2)"
   ]
  },
  {
   "cell_type": "code",
   "execution_count": null,
   "metadata": {
    "collapsed": false,
    "scrolled": true
   },
   "outputs": [],
   "source": [
    "df2[df2.appln_auth.isin(cntr_pre1950)]"
   ]
  },
  {
   "cell_type": "code",
   "execution_count": null,
   "metadata": {
    "collapsed": false
   },
   "outputs": [],
   "source": [
    "df2 = df2[df2.appln_auth.isin(cntr_pre1950)]"
   ]
  },
  {
   "cell_type": "markdown",
   "metadata": {
    "collapsed": true
   },
   "source": [
    "# Group - Apply - Combine: Auth:Year:ID, "
   ]
  },
  {
   "cell_type": "code",
   "execution_count": null,
   "metadata": {
    "collapsed": true
   },
   "outputs": [],
   "source": [
    "# Group\n",
    "grp_ayi = df2.groupby(['appln_auth', 'pub_year', 'appln_id'])"
   ]
  },
  {
   "cell_type": "code",
   "execution_count": null,
   "metadata": {
    "collapsed": false
   },
   "outputs": [],
   "source": [
    "# Apply - combine codes for each app into list NOTE time is for 100000 \n",
    "%time app_id_class_ls =  grp_ayi['ipc_class_symbol'].apply(list); app_id_class_ls.head()"
   ]
  },
  {
   "cell_type": "code",
   "execution_count": null,
   "metadata": {
    "collapsed": false
   },
   "outputs": [],
   "source": [
    "# regroup by just auth - year\n",
    "grp_ay = app_id_class_ls.groupby(level=[0,1])"
   ]
  },
  {
   "cell_type": "code",
   "execution_count": null,
   "metadata": {
    "collapsed": false
   },
   "outputs": [],
   "source": [
    "# Apply 2 - combine lists of codes for each year into list\n",
    "au_yr_ls_ls = grp_ay.apply(list); au_yr_ls_ls.head()"
   ]
  },
  {
   "cell_type": "code",
   "execution_count": null,
   "metadata": {
    "collapsed": false,
    "scrolled": true
   },
   "outputs": [],
   "source": [
    "yr_lsls_au = au_yr_ls_ls.reset_index(level=0).pivot(columns='appln_auth'); yr_lsls_au\n",
    "yr_lsls_au.columns = yr_lsls_au.columns.droplevel(); yr_lsls_au.head()"
   ]
  },
  {
   "cell_type": "code",
   "execution_count": null,
   "metadata": {
    "collapsed": true
   },
   "outputs": [],
   "source": [
    "def map_nan_lsls(ls):\n",
    "    if type(ls) != type([]):\n",
    "        ls = []\n",
    "    return ls"
   ]
  },
  {
   "cell_type": "code",
   "execution_count": null,
   "metadata": {
    "collapsed": false,
    "scrolled": true
   },
   "outputs": [],
   "source": [
    "yr_lsls_au = yr_lsls_au.applymap(map_nan_lsls); yr_lsls_au.head()"
   ]
  },
  {
   "cell_type": "code",
   "execution_count": null,
   "metadata": {
    "collapsed": true
   },
   "outputs": [],
   "source": [
    "# gotta pickle it, writing to csv doesn't preserve the columns and index properly...\n",
    "pk.dump(yr_lsls_au, open('pickles_and_munged_csv/pre1950_cated_codes_as_ints_v1.pk', 'wb'))"
   ]
  },
  {
   "cell_type": "code",
   "execution_count": null,
   "metadata": {
    "collapsed": false,
    "scrolled": true
   },
   "outputs": [],
   "source": [
    "yr_lsls_au.applymap(len)"
   ]
  },
  {
   "cell_type": "markdown",
   "metadata": {},
   "source": [
    "# Above is THE data frame for building networks\n",
    "NetworkX can take the list of lists and add links for all permuations of the items in each list\n",
    "The idea being that we go from dataframe with each value being an encoding of the adjaceny matric for each country for that year, then apply a mapping to each value that's a function using networkx to turn that into a graph, thus leaving the same data frame but with nx graphs instead of lists of lists. Then this will become the root dataframe. \n",
    "## Calling this type of dataframe a code sets frame"
   ]
  },
  {
   "cell_type": "code",
   "execution_count": null,
   "metadata": {
    "collapsed": false,
    "scrolled": true
   },
   "outputs": [],
   "source": [
    "for col in yr_lsls_au:\n",
    "    print col\n",
    "    for inx in yr_lsls_au.index[1:]:\n",
    "        print inx,\n",
    "        yr_lsls_au.loc[inx,col] = yr_lsls_au.loc[inx,col] + yr_lsls_au.loc[inx-1,col]\n",
    "clear_output()"
   ]
  },
  {
   "cell_type": "code",
   "execution_count": null,
   "metadata": {
    "collapsed": true
   },
   "outputs": [],
   "source": [
    "# gotta pickle it, writing to csv doesn't preserve the columns and index properly...\n",
    "pk.dump(yr_lsls_au, open('pickles_and_munged_csv/pre1950_cated_cumed_codes_as_ints_v1.pk', 'wb'))"
   ]
  },
  {
   "cell_type": "code",
   "execution_count": null,
   "metadata": {
    "collapsed": false,
    "scrolled": true
   },
   "outputs": [],
   "source": [
    "yr_lsls_au.applymap(len)"
   ]
  },
  {
   "cell_type": "code",
   "execution_count": null,
   "metadata": {
    "collapsed": true
   },
   "outputs": [],
   "source": []
  }
 ],
 "metadata": {
  "kernelspec": {
   "display_name": "Python 2",
   "language": "python",
   "name": "python2"
  },
  "language_info": {
   "codemirror_mode": {
    "name": "ipython",
    "version": 2
   },
   "file_extension": ".py",
   "mimetype": "text/x-python",
   "name": "python",
   "nbconvert_exporter": "python",
   "pygments_lexer": "ipython2",
   "version": "2.7.11"
  }
 },
 "nbformat": 4,
 "nbformat_minor": 0
}
