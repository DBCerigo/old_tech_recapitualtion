{
 "cells": [
  {
   "cell_type": "code",
   "execution_count": null,
   "metadata": {
    "collapsed": true
   },
   "outputs": [],
   "source": [
    "%matplotlib inline\n",
    "import matplotlib.pyplot as plt\n",
    "plt.style.use('ggplot')\n",
    "import cPickle as pk\n",
    "import pandas as pd"
   ]
  },
  {
   "cell_type": "markdown",
   "metadata": {},
   "source": [
    "# Criteria for Choosing Countries"
   ]
  },
  {
   "cell_type": "code",
   "execution_count": null,
   "metadata": {
    "collapsed": false
   },
   "outputs": [],
   "source": [
    "s_au_year_tot_num = pk.load(open('pickles_and_munged_csv/s_au_year_num.pk','rb')) \n",
    "s_au_year_tot_num.name = 'tot_num'"
   ]
  },
  {
   "cell_type": "code",
   "execution_count": null,
   "metadata": {
    "collapsed": true
   },
   "outputs": [],
   "source": [
    "s_au_year_tot_num.sort_values()"
   ]
  },
  {
   "cell_type": "code",
   "execution_count": 4,
   "metadata": {
    "collapsed": false
   },
   "outputs": [
    {
     "name": "stdout",
     "output_type": "stream",
     "text": [
      "appln_auth\n",
      "US    2444883\n",
      "GB     492822\n",
      "FR     453414\n",
      "DE     408311\n",
      "SU      63672\n",
      "CH      37492\n",
      "ES      26462\n",
      "AT      15362\n",
      "GR      10413\n",
      "DK       3318\n",
      "BE       1886\n",
      "NL       1573\n",
      "CA       1431\n",
      "IS        199\n",
      "SE        153\n",
      "IT         68\n",
      "AU         21\n",
      "FI         20\n",
      "LU         14\n",
      "JP          9\n",
      "IE          3\n",
      "NO          2\n",
      "Name: tot_num, dtype: int64\n"
     ]
    },
    {
     "data": {
      "text/plain": [
       "22"
      ]
     },
     "execution_count": 4,
     "metadata": {},
     "output_type": "execute_result"
    }
   ],
   "source": [
    "criteria_year = 1950\n",
    "\n",
    "print s_au_year_tot_num[s_au_year_tot_num.index.get_level_values('pub_year') < criteria_year].sum(level=0).sort_values(ascending=False)\n",
    "len(s_au_year_tot_num[s_au_year_tot_num.index.get_level_values('pub_year') < criteria_year].sum(level=0).sort_values(ascending=False))"
   ]
  },
  {
   "cell_type": "code",
   "execution_count": 10,
   "metadata": {
    "collapsed": false
   },
   "outputs": [],
   "source": [
    "ls = s_au_year_tot_num[s_au_year_tot_num.index.get_level_values('pub_year') < criteria_year].sum(level=0).index.get_level_values(level=0).values"
   ]
  },
  {
   "cell_type": "code",
   "execution_count": 17,
   "metadata": {
    "collapsed": false
   },
   "outputs": [
    {
     "data": {
      "text/plain": [
       "'AT'"
      ]
     },
     "execution_count": 17,
     "metadata": {},
     "output_type": "execute_result"
    }
   ],
   "source": [
    "ls = list(ls)\n",
    "ls"
   ]
  },
  {
   "cell_type": "code",
   "execution_count": 18,
   "metadata": {
    "collapsed": true
   },
   "outputs": [],
   "source": [
    "pk.dump(ls, open('pickles_and_munged_csv/cntr_ls_appear_before_1950.pk','wb')) "
   ]
  },
  {
   "cell_type": "code",
   "execution_count": null,
   "metadata": {
    "collapsed": true
   },
   "outputs": [],
   "source": []
  }
 ],
 "metadata": {
  "kernelspec": {
   "display_name": "Python 2",
   "language": "python",
   "name": "python2"
  },
  "language_info": {
   "codemirror_mode": {
    "name": "ipython",
    "version": 2
   },
   "file_extension": ".py",
   "mimetype": "text/x-python",
   "name": "python",
   "nbconvert_exporter": "python",
   "pygments_lexer": "ipython2",
   "version": "2.7.11"
  }
 },
 "nbformat": 4,
 "nbformat_minor": 0
}
